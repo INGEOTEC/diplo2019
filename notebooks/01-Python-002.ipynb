{
 "cells": [
  {
   "cell_type": "markdown",
   "metadata": {
    "slideshow": {
     "slide_type": "slide"
    }
   },
   "source": [
    "## Pandas\n",
    "\n",
    "<img src=\"img/pandas_logo.png\" width=\"600\">"
   ]
  },
  {
   "cell_type": "markdown",
   "metadata": {
    "slideshow": {
     "slide_type": "slide"
    }
   },
   "source": [
    "## Python Data Analysis Library\n",
    "\n",
    "Pandas es una librería de open source que permite el uso fácil de estructuras de datos y herramientas de análisis utilizando el lenguaje de programación Python.\n"
   ]
  },
  {
   "cell_type": "code",
   "execution_count": 1,
   "metadata": {
    "slideshow": {
     "slide_type": "slide"
    }
   },
   "outputs": [],
   "source": [
    "# Para usarlo primero hay que importarlo\n",
    "from pandas import Series, DataFrame\n",
    "import pandas as pd"
   ]
  },
  {
   "cell_type": "code",
   "execution_count": 3,
   "metadata": {
    "slideshow": {
     "slide_type": "slide"
    }
   },
   "outputs": [
    {
     "data": {
      "text/html": [
       "<div>\n",
       "<table border=\"1\" class=\"dataframe\">\n",
       "  <thead>\n",
       "    <tr style=\"text-align: right;\">\n",
       "      <th></th>\n",
       "      <th>Nombre</th>\n",
       "      <th>reports</th>\n",
       "      <th>year</th>\n",
       "    </tr>\n",
       "  </thead>\n",
       "  <tbody>\n",
       "    <tr>\n",
       "      <th>Mexico</th>\n",
       "      <td>Ana</td>\n",
       "      <td>4</td>\n",
       "      <td>2012</td>\n",
       "    </tr>\n",
       "    <tr>\n",
       "      <th>Aguascalientes</th>\n",
       "      <td>Maria</td>\n",
       "      <td>24</td>\n",
       "      <td>2012</td>\n",
       "    </tr>\n",
       "    <tr>\n",
       "      <th>Guadalajara</th>\n",
       "      <td>Lucia</td>\n",
       "      <td>31</td>\n",
       "      <td>2013</td>\n",
       "    </tr>\n",
       "    <tr>\n",
       "      <th>Monterrey</th>\n",
       "      <td>Jorge</td>\n",
       "      <td>2</td>\n",
       "      <td>2014</td>\n",
       "    </tr>\n",
       "    <tr>\n",
       "      <th>Sinaloa</th>\n",
       "      <td>Carlos</td>\n",
       "      <td>3</td>\n",
       "      <td>2014</td>\n",
       "    </tr>\n",
       "  </tbody>\n",
       "</table>\n",
       "</div>"
      ],
      "text/plain": [
       "                Nombre  reports  year\n",
       "Mexico             Ana        4  2012\n",
       "Aguascalientes   Maria       24  2012\n",
       "Guadalajara      Lucia       31  2013\n",
       "Monterrey        Jorge        2  2014\n",
       "Sinaloa         Carlos        3  2014"
      ]
     },
     "execution_count": 3,
     "metadata": {},
     "output_type": "execute_result"
    }
   ],
   "source": [
    "datos = {'Nombre': ['Ana', 'Maria', 'Lucia', 'Jorge', 'Carlos'], \n",
    "        'year': [2012, 2012, 2013, 2014, 2014], \n",
    "        'reports': [4, 24, 31, 2, 3]}\n",
    "\n",
    "df = pd.DataFrame(datos, index = ['Mexico', 'Aguascalientes', \n",
    "                                  'Guadalajara', 'Monterrey', 'Sinaloa'])\n",
    "\n",
    "df"
   ]
  },
  {
   "cell_type": "code",
   "execution_count": 5,
   "metadata": {
    "slideshow": {
     "slide_type": "slide"
    }
   },
   "outputs": [
    {
     "data": {
      "text/html": [
       "<div>\n",
       "<table border=\"1\" class=\"dataframe\">\n",
       "  <thead>\n",
       "    <tr style=\"text-align: right;\">\n",
       "      <th></th>\n",
       "      <th>Nombre</th>\n",
       "      <th>reports</th>\n",
       "      <th>year</th>\n",
       "    </tr>\n",
       "  </thead>\n",
       "  <tbody>\n",
       "    <tr>\n",
       "      <th>Mexico</th>\n",
       "      <td>Ana</td>\n",
       "      <td>4</td>\n",
       "      <td>2012</td>\n",
       "    </tr>\n",
       "    <tr>\n",
       "      <th>Aguascalientes</th>\n",
       "      <td>Maria</td>\n",
       "      <td>24</td>\n",
       "      <td>2012</td>\n",
       "    </tr>\n",
       "  </tbody>\n",
       "</table>\n",
       "</div>"
      ],
      "text/plain": [
       "               Nombre  reports  year\n",
       "Mexico            Ana        4  2012\n",
       "Aguascalientes  Maria       24  2012"
      ]
     },
     "execution_count": 5,
     "metadata": {},
     "output_type": "execute_result"
    }
   ],
   "source": [
    "df[:2]"
   ]
  },
  {
   "cell_type": "code",
   "execution_count": 8,
   "metadata": {},
   "outputs": [
    {
     "data": {
      "text/html": [
       "<div>\n",
       "<table border=\"1\" class=\"dataframe\">\n",
       "  <thead>\n",
       "    <tr style=\"text-align: right;\">\n",
       "      <th></th>\n",
       "      <th>Nombre</th>\n",
       "      <th>reports</th>\n",
       "      <th>year</th>\n",
       "    </tr>\n",
       "  </thead>\n",
       "  <tbody>\n",
       "    <tr>\n",
       "      <th>Mexico</th>\n",
       "      <td>Ana</td>\n",
       "      <td>4</td>\n",
       "      <td>2012</td>\n",
       "    </tr>\n",
       "    <tr>\n",
       "      <th>Aguascalientes</th>\n",
       "      <td>Maria</td>\n",
       "      <td>24</td>\n",
       "      <td>2012</td>\n",
       "    </tr>\n",
       "    <tr>\n",
       "      <th>Guadalajara</th>\n",
       "      <td>Lucia</td>\n",
       "      <td>31</td>\n",
       "      <td>2013</td>\n",
       "    </tr>\n",
       "  </tbody>\n",
       "</table>\n",
       "</div>"
      ],
      "text/plain": [
       "               Nombre  reports  year\n",
       "Mexico            Ana        4  2012\n",
       "Aguascalientes  Maria       24  2012\n",
       "Guadalajara     Lucia       31  2013"
      ]
     },
     "execution_count": 8,
     "metadata": {},
     "output_type": "execute_result"
    }
   ],
   "source": [
    "df[0:3]"
   ]
  },
  {
   "cell_type": "code",
   "execution_count": 9,
   "metadata": {
    "slideshow": {
     "slide_type": "slide"
    }
   },
   "outputs": [
    {
     "name": "stdout",
     "output_type": "stream",
     "text": [
      "Mexico               Ana\n",
      "Aguascalientes     Maria\n",
      "Guadalajara        Lucia\n",
      "Monterrey          Jorge\n",
      "Sinaloa           Carlos\n",
      "Name: Nombre, dtype: object\n",
      "\n",
      "\n",
      "Mexico             4\n",
      "Aguascalientes    24\n",
      "Guadalajara       31\n",
      "Monterrey          2\n",
      "Sinaloa            3\n",
      "Name: reports, dtype: int64\n",
      "\n",
      "\n",
      "Mexico            2012\n",
      "Aguascalientes    2012\n",
      "Guadalajara       2013\n",
      "Monterrey         2014\n",
      "Sinaloa           2014\n",
      "Name: year, dtype: int64\n"
     ]
    }
   ],
   "source": [
    "#Acceso a los datos\n",
    "print(df['Nombre']) #Acceso a los atributos o columnas\n",
    "print('\\n')\n",
    "print(df['reports'])\n",
    "print('\\n')\n",
    "print(df['year'])"
   ]
  },
  {
   "cell_type": "code",
   "execution_count": 11,
   "metadata": {
    "slideshow": {
     "slide_type": "slide"
    }
   },
   "outputs": [
    {
     "name": "stdout",
     "output_type": "stream",
     "text": [
      "Ana\n",
      "Maria\n",
      "Lucia\n",
      "Jorge\n",
      "Carlos\n",
      "\n",
      "\n",
      "(5, 3)\n"
     ]
    },
    {
     "data": {
      "text/plain": [
       "5"
      ]
     },
     "execution_count": 11,
     "metadata": {},
     "output_type": "execute_result"
    }
   ],
   "source": [
    "#Acceso a los valores de un registro en un atributo especifico\n",
    "print(df.Nombre[0])\n",
    "print(df.Nombre[1])\n",
    "print(df.Nombre[2])\n",
    "print(df.Nombre[3])\n",
    "print(df.Nombre[4])\n",
    "#df.Nombre[5]  \n",
    "\n",
    "#conocer las dimensiones del dataframe\n",
    "print('\\n')\n",
    "print(df.shape)\n",
    "len(df)"
   ]
  },
  {
   "cell_type": "code",
   "execution_count": 12,
   "metadata": {
    "slideshow": {
     "slide_type": "slide"
    }
   },
   "outputs": [
    {
     "name": "stdout",
     "output_type": "stream",
     "text": [
      "Nombre     Maria\n",
      "reports       24\n",
      "year        2012\n",
      "Name: Aguascalientes, dtype: object\n",
      "\n",
      "\n",
      "Mexico               Ana\n",
      "Aguascalientes     Maria\n",
      "Guadalajara        Lucia\n",
      "Monterrey          Jorge\n",
      "Sinaloa           Carlos\n",
      "Name: Nombre, dtype: object\n"
     ]
    }
   ],
   "source": [
    "#También podemos buscar por un valor en especifico\n",
    "row = df.xs('Aguascalientes')\n",
    "print(row)\n",
    "col = df.xs('Nombre', axis=1)\n",
    "print('\\n')\n",
    "print(col)\n"
   ]
  },
  {
   "cell_type": "code",
   "execution_count": 10,
   "metadata": {
    "slideshow": {
     "slide_type": "slide"
    }
   },
   "outputs": [
    {
     "name": "stdout",
     "output_type": "stream",
     "text": [
      "Maria\n",
      "24\n",
      "2012\n"
     ]
    }
   ],
   "source": [
    "print(row['Nombre'])\n",
    "print(row['reports'])\n",
    "print(row['year'])"
   ]
  },
  {
   "cell_type": "code",
   "execution_count": 11,
   "metadata": {
    "slideshow": {
     "slide_type": "slide"
    }
   },
   "outputs": [
    {
     "name": "stdout",
     "output_type": "stream",
     "text": [
      "Maria\n",
      "Carlos\n"
     ]
    }
   ],
   "source": [
    "print(col['Aguascalientes'])\n",
    "print(col['Sinaloa'])\n"
   ]
  },
  {
   "cell_type": "code",
   "execution_count": 14,
   "metadata": {
    "slideshow": {
     "slide_type": "slide"
    }
   },
   "outputs": [
    {
     "data": {
      "text/plain": [
       "Nombre     Maria\n",
       "reports       24\n",
       "year        2012\n",
       "Name: Aguascalientes, dtype: object"
      ]
     },
     "execution_count": 14,
     "metadata": {},
     "output_type": "execute_result"
    }
   ],
   "source": [
    "roww = df.ix[1] # Porque no podemos hacer df[0]\n",
    "roww\n"
   ]
  },
  {
   "cell_type": "code",
   "execution_count": 16,
   "metadata": {
    "slideshow": {
     "slide_type": "slide"
    }
   },
   "outputs": [
    {
     "data": {
      "text/html": [
       "<div>\n",
       "<table border=\"1\" class=\"dataframe\">\n",
       "  <thead>\n",
       "    <tr style=\"text-align: right;\">\n",
       "      <th></th>\n",
       "      <th>Nombre</th>\n",
       "      <th>reports</th>\n",
       "      <th>year</th>\n",
       "    </tr>\n",
       "  </thead>\n",
       "  <tbody>\n",
       "    <tr>\n",
       "      <th>Mexico</th>\n",
       "      <td>Ana</td>\n",
       "      <td>4</td>\n",
       "      <td>2012</td>\n",
       "    </tr>\n",
       "    <tr>\n",
       "      <th>Aguascalientes</th>\n",
       "      <td>Maria</td>\n",
       "      <td>24</td>\n",
       "      <td>2012</td>\n",
       "    </tr>\n",
       "    <tr>\n",
       "      <th>Guadalajara</th>\n",
       "      <td>Lucia</td>\n",
       "      <td>31</td>\n",
       "      <td>2013</td>\n",
       "    </tr>\n",
       "    <tr>\n",
       "      <th>Monterrey</th>\n",
       "      <td>Jorge</td>\n",
       "      <td>2</td>\n",
       "      <td>2014</td>\n",
       "    </tr>\n",
       "    <tr>\n",
       "      <th>Sinaloa</th>\n",
       "      <td>Carlos</td>\n",
       "      <td>3</td>\n",
       "      <td>2014</td>\n",
       "    </tr>\n",
       "  </tbody>\n",
       "</table>\n",
       "</div>"
      ],
      "text/plain": [
       "                Nombre  reports  year\n",
       "Mexico             Ana        4  2012\n",
       "Aguascalientes   Maria       24  2012\n",
       "Guadalajara      Lucia       31  2013\n",
       "Monterrey        Jorge        2  2014\n",
       "Sinaloa         Carlos        3  2014"
      ]
     },
     "execution_count": 16,
     "metadata": {},
     "output_type": "execute_result"
    }
   ],
   "source": [
    "dfmi = df.copy()  #Copiar un dataframe\n",
    "dfmi"
   ]
  },
  {
   "cell_type": "code",
   "execution_count": 15,
   "metadata": {
    "slideshow": {
     "slide_type": "slide"
    }
   },
   "outputs": [
    {
     "data": {
      "text/plain": [
       "Index(['Mexico', 'Aguascalientes', 'Guadalajara', 'Monterrey', 'Sinaloa'], dtype='object')"
      ]
     },
     "execution_count": 15,
     "metadata": {},
     "output_type": "execute_result"
    }
   ],
   "source": [
    "df.index"
   ]
  },
  {
   "cell_type": "code",
   "execution_count": 16,
   "metadata": {
    "collapsed": true,
    "slideshow": {
     "slide_type": "slide"
    }
   },
   "outputs": [
    {
     "name": "stdout",
     "output_type": "stream",
     "text": [
      "Nombre      Ana\n",
      "reports       4\n",
      "year       2012\n",
      "Name: Mexico, dtype: object\n",
      "Mexico\n",
      "\n",
      "\n",
      "Nombre     Maria\n",
      "reports       24\n",
      "year        2012\n",
      "Name: Aguascalientes, dtype: object\n",
      "Aguascalientes\n",
      "\n",
      "\n",
      "Nombre     Lucia\n",
      "reports       31\n",
      "year        2013\n",
      "Name: Guadalajara, dtype: object\n",
      "Guadalajara\n",
      "\n",
      "\n",
      "Nombre     Jorge\n",
      "reports        2\n",
      "year        2014\n",
      "Name: Monterrey, dtype: object\n",
      "Monterrey\n",
      "\n",
      "\n",
      "Nombre     Carlos\n",
      "reports         3\n",
      "year         2014\n",
      "Name: Sinaloa, dtype: object\n",
      "Sinaloa\n",
      "\n",
      "\n"
     ]
    }
   ],
   "source": [
    "#Recorrer todos los elementos del dataframe\n",
    "for index, row in df.iterrows():\n",
    "    print(row)\n",
    "    print(index)\n",
    "    print('\\n')"
   ]
  },
  {
   "cell_type": "code",
   "execution_count": 17,
   "metadata": {
    "slideshow": {
     "slide_type": "slide"
    }
   },
   "outputs": [
    {
     "name": "stdout",
     "output_type": "stream",
     "text": [
      "Ana\n",
      "Maria\n",
      "Lucia\n",
      "Jorge\n",
      "Carlos\n"
     ]
    }
   ],
   "source": [
    "#Recorrer todos los elementos del dataframe\n",
    "for index, row in df.iterrows():\n",
    "    nombre = row['Nombre']\n",
    "    print(nombre)"
   ]
  },
  {
   "cell_type": "code",
   "execution_count": 18,
   "metadata": {
    "collapsed": true,
    "slideshow": {
     "slide_type": "slide"
    }
   },
   "outputs": [
    {
     "name": "stdout",
     "output_type": "stream",
     "text": [
      "Nombre\n",
      "Mexico               Ana\n",
      "Aguascalientes     Maria\n",
      "Guadalajara        Lucia\n",
      "Monterrey          Jorge\n",
      "Sinaloa           Carlos\n",
      "Name: Nombre, dtype: object\n",
      "\n",
      "\n",
      "reports\n",
      "Mexico             4\n",
      "Aguascalientes    24\n",
      "Guadalajara       31\n",
      "Monterrey          2\n",
      "Sinaloa            3\n",
      "Name: reports, dtype: int64\n",
      "\n",
      "\n",
      "year\n",
      "Mexico            2012\n",
      "Aguascalientes    2012\n",
      "Guadalajara       2013\n",
      "Monterrey         2014\n",
      "Sinaloa           2014\n",
      "Name: year, dtype: int64\n",
      "\n",
      "\n"
     ]
    }
   ],
   "source": [
    "#Recorrer todos los elementos del dataframe\n",
    "for columna, valor in df.iteritems():\n",
    "    print(columna)\n",
    "    print(valor)\n",
    "    print('\\n')"
   ]
  },
  {
   "cell_type": "code",
   "execution_count": 18,
   "metadata": {
    "slideshow": {
     "slide_type": "slide"
    }
   },
   "outputs": [
    {
     "data": {
      "text/plain": [
       "array([['Ana', 4, 2012],\n",
       "       ['Maria', 24, 2012],\n",
       "       ['Lucia', 31, 2013],\n",
       "       ['Jorge', 2, 2014],\n",
       "       ['Carlos', 3, 2014]], dtype=object)"
      ]
     },
     "execution_count": 18,
     "metadata": {},
     "output_type": "execute_result"
    }
   ],
   "source": [
    "df.values"
   ]
  },
  {
   "cell_type": "code",
   "execution_count": 19,
   "metadata": {
    "slideshow": {
     "slide_type": "slide"
    }
   },
   "outputs": [
    {
     "data": {
      "text/html": [
       "<div>\n",
       "<table border=\"1\" class=\"dataframe\">\n",
       "  <thead>\n",
       "    <tr style=\"text-align: right;\">\n",
       "      <th></th>\n",
       "      <th>reports</th>\n",
       "      <th>year</th>\n",
       "    </tr>\n",
       "  </thead>\n",
       "  <tbody>\n",
       "    <tr>\n",
       "      <th>count</th>\n",
       "      <td>5.000000</td>\n",
       "      <td>5.0</td>\n",
       "    </tr>\n",
       "    <tr>\n",
       "      <th>mean</th>\n",
       "      <td>12.800000</td>\n",
       "      <td>2013.0</td>\n",
       "    </tr>\n",
       "    <tr>\n",
       "      <th>std</th>\n",
       "      <td>13.663821</td>\n",
       "      <td>1.0</td>\n",
       "    </tr>\n",
       "    <tr>\n",
       "      <th>min</th>\n",
       "      <td>2.000000</td>\n",
       "      <td>2012.0</td>\n",
       "    </tr>\n",
       "    <tr>\n",
       "      <th>25%</th>\n",
       "      <td>3.000000</td>\n",
       "      <td>2012.0</td>\n",
       "    </tr>\n",
       "    <tr>\n",
       "      <th>50%</th>\n",
       "      <td>4.000000</td>\n",
       "      <td>2013.0</td>\n",
       "    </tr>\n",
       "    <tr>\n",
       "      <th>75%</th>\n",
       "      <td>24.000000</td>\n",
       "      <td>2014.0</td>\n",
       "    </tr>\n",
       "    <tr>\n",
       "      <th>max</th>\n",
       "      <td>31.000000</td>\n",
       "      <td>2014.0</td>\n",
       "    </tr>\n",
       "  </tbody>\n",
       "</table>\n",
       "</div>"
      ],
      "text/plain": [
       "         reports    year\n",
       "count   5.000000     5.0\n",
       "mean   12.800000  2013.0\n",
       "std    13.663821     1.0\n",
       "min     2.000000  2012.0\n",
       "25%     3.000000  2012.0\n",
       "50%     4.000000  2013.0\n",
       "75%    24.000000  2014.0\n",
       "max    31.000000  2014.0"
      ]
     },
     "execution_count": 19,
     "metadata": {},
     "output_type": "execute_result"
    }
   ],
   "source": [
    "df.describe()"
   ]
  },
  {
   "cell_type": "code",
   "execution_count": 21,
   "metadata": {
    "slideshow": {
     "slide_type": "slide"
    }
   },
   "outputs": [
    {
     "name": "stdout",
     "output_type": "stream",
     "text": [
      "reports      12.8\n",
      "year       2013.0\n",
      "dtype: float64\n",
      "\n",
      "\n",
      "Nombre      Ana\n",
      "reports       2\n",
      "year       2012\n",
      "dtype: object\n"
     ]
    }
   ],
   "source": [
    "#Estadísticas en los dataframes\n",
    "print(df.mean())\n",
    "\n",
    "#También aplica count, sum, median, min, max, abs, prod, etc.\n",
    "print('\\n')\n",
    "print(df.min())"
   ]
  },
  {
   "cell_type": "markdown",
   "metadata": {
    "slideshow": {
     "slide_type": "slide"
    }
   },
   "source": [
    "  <img src=\"img/dataframes_statis.png\" width=\"600\">"
   ]
  },
  {
   "cell_type": "code",
   "execution_count": 22,
   "metadata": {
    "slideshow": {
     "slide_type": "slide"
    }
   },
   "outputs": [
    {
     "data": {
      "text/html": [
       "<div>\n",
       "<table border=\"1\" class=\"dataframe\">\n",
       "  <thead>\n",
       "    <tr style=\"text-align: right;\">\n",
       "      <th></th>\n",
       "      <th>Nombre</th>\n",
       "      <th>reports</th>\n",
       "      <th>year</th>\n",
       "    </tr>\n",
       "  </thead>\n",
       "  <tbody>\n",
       "    <tr>\n",
       "      <th>Guadalajara</th>\n",
       "      <td>Lucia</td>\n",
       "      <td>31</td>\n",
       "      <td>2013</td>\n",
       "    </tr>\n",
       "    <tr>\n",
       "      <th>Monterrey</th>\n",
       "      <td>Jorge</td>\n",
       "      <td>2</td>\n",
       "      <td>2014</td>\n",
       "    </tr>\n",
       "    <tr>\n",
       "      <th>Sinaloa</th>\n",
       "      <td>Carlos</td>\n",
       "      <td>3</td>\n",
       "      <td>2014</td>\n",
       "    </tr>\n",
       "  </tbody>\n",
       "</table>\n",
       "</div>"
      ],
      "text/plain": [
       "             Nombre  reports  year\n",
       "Guadalajara   Lucia       31  2013\n",
       "Monterrey     Jorge        2  2014\n",
       "Sinaloa      Carlos        3  2014"
      ]
     },
     "execution_count": 22,
     "metadata": {},
     "output_type": "execute_result"
    }
   ],
   "source": [
    "#Borrando filas u observaciones\n",
    "df.drop(['Aguascalientes', 'Mexico'], inplace=True)\n",
    "df"
   ]
  },
  {
   "cell_type": "code",
   "execution_count": 23,
   "metadata": {
    "slideshow": {
     "slide_type": "slide"
    }
   },
   "outputs": [
    {
     "data": {
      "text/html": [
       "<div>\n",
       "<table border=\"1\" class=\"dataframe\">\n",
       "  <thead>\n",
       "    <tr style=\"text-align: right;\">\n",
       "      <th></th>\n",
       "      <th>Nombre</th>\n",
       "      <th>reports</th>\n",
       "    </tr>\n",
       "  </thead>\n",
       "  <tbody>\n",
       "    <tr>\n",
       "      <th>Guadalajara</th>\n",
       "      <td>Lucia</td>\n",
       "      <td>31</td>\n",
       "    </tr>\n",
       "    <tr>\n",
       "      <th>Monterrey</th>\n",
       "      <td>Jorge</td>\n",
       "      <td>2</td>\n",
       "    </tr>\n",
       "    <tr>\n",
       "      <th>Sinaloa</th>\n",
       "      <td>Carlos</td>\n",
       "      <td>3</td>\n",
       "    </tr>\n",
       "  </tbody>\n",
       "</table>\n",
       "</div>"
      ],
      "text/plain": [
       "             Nombre  reports\n",
       "Guadalajara   Lucia       31\n",
       "Monterrey     Jorge        2\n",
       "Sinaloa      Carlos        3"
      ]
     },
     "execution_count": 23,
     "metadata": {},
     "output_type": "execute_result"
    }
   ],
   "source": [
    "#Borrando variables\n",
    "df.drop('year', axis=1, inplace=True)\n",
    "df.head() # Nos ayuda a ver los n primeros elementos del dataframe"
   ]
  },
  {
   "cell_type": "code",
   "execution_count": 28,
   "metadata": {},
   "outputs": [
    {
     "data": {
      "text/html": [
       "<div>\n",
       "<table border=\"1\" class=\"dataframe\">\n",
       "  <thead>\n",
       "    <tr style=\"text-align: right;\">\n",
       "      <th></th>\n",
       "      <th>Nombre</th>\n",
       "      <th>reports</th>\n",
       "    </tr>\n",
       "  </thead>\n",
       "  <tbody>\n",
       "    <tr>\n",
       "      <th>Guadalajara</th>\n",
       "      <td>Lucia</td>\n",
       "      <td>31</td>\n",
       "    </tr>\n",
       "    <tr>\n",
       "      <th>Monterrey</th>\n",
       "      <td>Jorge</td>\n",
       "      <td>2</td>\n",
       "    </tr>\n",
       "  </tbody>\n",
       "</table>\n",
       "</div>"
      ],
      "text/plain": [
       "            Nombre  reports\n",
       "Guadalajara  Lucia       31\n",
       "Monterrey    Jorge        2"
      ]
     },
     "execution_count": 28,
     "metadata": {},
     "output_type": "execute_result"
    }
   ],
   "source": [
    "df.head(2)"
   ]
  },
  {
   "cell_type": "code",
   "execution_count": 29,
   "metadata": {
    "slideshow": {
     "slide_type": "slide"
    }
   },
   "outputs": [
    {
     "data": {
      "text/html": [
       "<div>\n",
       "<table border=\"1\" class=\"dataframe\">\n",
       "  <thead>\n",
       "    <tr style=\"text-align: right;\">\n",
       "      <th></th>\n",
       "      <th>Nombre</th>\n",
       "      <th>reports</th>\n",
       "    </tr>\n",
       "  </thead>\n",
       "  <tbody>\n",
       "    <tr>\n",
       "      <th>Sinaloa</th>\n",
       "      <td>Carlos</td>\n",
       "      <td>3</td>\n",
       "    </tr>\n",
       "  </tbody>\n",
       "</table>\n",
       "</div>"
      ],
      "text/plain": [
       "         Nombre  reports\n",
       "Sinaloa  Carlos        3"
      ]
     },
     "execution_count": 29,
     "metadata": {},
     "output_type": "execute_result"
    }
   ],
   "source": [
    "df.tail(1) #Nos muestra los últimos n elementos del Dataframe"
   ]
  },
  {
   "cell_type": "code",
   "execution_count": 33,
   "metadata": {
    "slideshow": {
     "slide_type": "slide"
    }
   },
   "outputs": [
    {
     "data": {
      "text/html": [
       "<div>\n",
       "<table border=\"1\" class=\"dataframe\">\n",
       "  <thead>\n",
       "    <tr style=\"text-align: right;\">\n",
       "      <th></th>\n",
       "      <th>Nombre</th>\n",
       "      <th>reports</th>\n",
       "    </tr>\n",
       "  </thead>\n",
       "  <tbody>\n",
       "    <tr>\n",
       "      <th>Guadalajara</th>\n",
       "      <td>Lucia</td>\n",
       "      <td>31</td>\n",
       "    </tr>\n",
       "    <tr>\n",
       "      <th>Monterrey</th>\n",
       "      <td>Jorge</td>\n",
       "      <td>2</td>\n",
       "    </tr>\n",
       "  </tbody>\n",
       "</table>\n",
       "</div>"
      ],
      "text/plain": [
       "            Nombre  reports\n",
       "Guadalajara  Lucia       31\n",
       "Monterrey    Jorge        2"
      ]
     },
     "execution_count": 33,
     "metadata": {},
     "output_type": "execute_result"
    }
   ],
   "source": [
    "#Seleccionamos una observación siempre y cuando contenga un \n",
    "#determinado valor\n",
    "df_n = df[df.Nombre != 'Carlos']\n",
    "df_n"
   ]
  },
  {
   "cell_type": "code",
   "execution_count": 35,
   "metadata": {
    "slideshow": {
     "slide_type": "slide"
    }
   },
   "outputs": [
    {
     "name": "stdout",
     "output_type": "stream",
     "text": [
      "             Nombre  reports  year\n",
      "Guadalajara   Lucia       31  2015\n",
      "Monterrey     Jorge        2  2015\n",
      "Sinaloa      Carlos        3  2015\n",
      "             Nombre  reports  year\n",
      "Guadalajara   Lucia       31  2015\n",
      "Monterrey     Jorge        2  2015\n",
      "Sinaloa      Carlos        3  2015\n"
     ]
    }
   ],
   "source": [
    "## También podemos modificar los valores del dataframe\n",
    "df_2 = df #Hacemos una copia del Dataframe\n",
    "\n",
    "print(df_2)\n",
    "\n",
    "df_2['year'] = 2015 #Asignamos 2015 a toda la columna year\n",
    "\n",
    "print(df)"
   ]
  },
  {
   "cell_type": "code",
   "execution_count": 37,
   "metadata": {
    "slideshow": {
     "slide_type": "slide"
    }
   },
   "outputs": [
    {
     "data": {
      "text/html": [
       "<div>\n",
       "<table border=\"1\" class=\"dataframe\">\n",
       "  <thead>\n",
       "    <tr style=\"text-align: right;\">\n",
       "      <th></th>\n",
       "      <th>Nombre</th>\n",
       "      <th>reports</th>\n",
       "      <th>year</th>\n",
       "    </tr>\n",
       "  </thead>\n",
       "  <tbody>\n",
       "    <tr>\n",
       "      <th>Guadalajara</th>\n",
       "      <td>10</td>\n",
       "      <td>10</td>\n",
       "      <td>10</td>\n",
       "    </tr>\n",
       "    <tr>\n",
       "      <th>Monterrey</th>\n",
       "      <td>Jorge</td>\n",
       "      <td>2</td>\n",
       "      <td>2015</td>\n",
       "    </tr>\n",
       "    <tr>\n",
       "      <th>Sinaloa</th>\n",
       "      <td>Carlos</td>\n",
       "      <td>3</td>\n",
       "      <td>2015</td>\n",
       "    </tr>\n",
       "  </tbody>\n",
       "</table>\n",
       "</div>"
      ],
      "text/plain": [
       "             Nombre  reports  year\n",
       "Guadalajara      10       10    10\n",
       "Monterrey     Jorge        2  2015\n",
       "Sinaloa      Carlos        3  2015"
      ]
     },
     "execution_count": 37,
     "metadata": {},
     "output_type": "execute_result"
    }
   ],
   "source": [
    "#Igualamos a 10 a toda la fila de index Aguascalientes\n",
    "df_2[df_2.index==\"Guadalajara\"]=10 \n",
    "\n",
    "df_2\n",
    "\n"
   ]
  },
  {
   "cell_type": "code",
   "execution_count": 38,
   "metadata": {},
   "outputs": [
    {
     "data": {
      "text/html": [
       "<div>\n",
       "<table border=\"1\" class=\"dataframe\">\n",
       "  <thead>\n",
       "    <tr style=\"text-align: right;\">\n",
       "      <th></th>\n",
       "      <th>Nombre</th>\n",
       "      <th>reports</th>\n",
       "      <th>year</th>\n",
       "    </tr>\n",
       "  </thead>\n",
       "  <tbody>\n",
       "    <tr>\n",
       "      <th>Guadalajara</th>\n",
       "      <td>10</td>\n",
       "      <td>10</td>\n",
       "      <td>10</td>\n",
       "    </tr>\n",
       "    <tr>\n",
       "      <th>Monterrey</th>\n",
       "      <td>Jorge</td>\n",
       "      <td>2</td>\n",
       "      <td>2015</td>\n",
       "    </tr>\n",
       "    <tr>\n",
       "      <th>Sinaloa</th>\n",
       "      <td>Carlos</td>\n",
       "      <td>3</td>\n",
       "      <td>2015</td>\n",
       "    </tr>\n",
       "  </tbody>\n",
       "</table>\n",
       "</div>"
      ],
      "text/plain": [
       "             Nombre  reports  year\n",
       "Guadalajara      10       10    10\n",
       "Monterrey     Jorge        2  2015\n",
       "Sinaloa      Carlos        3  2015"
      ]
     },
     "execution_count": 38,
     "metadata": {},
     "output_type": "execute_result"
    }
   ],
   "source": [
    "df"
   ]
  },
  {
   "cell_type": "code",
   "execution_count": 40,
   "metadata": {
    "slideshow": {
     "slide_type": "slide"
    }
   },
   "outputs": [
    {
     "data": {
      "text/html": [
       "<div>\n",
       "<table border=\"1\" class=\"dataframe\">\n",
       "  <thead>\n",
       "    <tr style=\"text-align: right;\">\n",
       "      <th></th>\n",
       "      <th>Nombre</th>\n",
       "      <th>reports</th>\n",
       "      <th>year</th>\n",
       "    </tr>\n",
       "  </thead>\n",
       "  <tbody>\n",
       "    <tr>\n",
       "      <th>Guadalajara</th>\n",
       "      <td>Alejandra</td>\n",
       "      <td>10</td>\n",
       "      <td>10</td>\n",
       "    </tr>\n",
       "    <tr>\n",
       "      <th>Monterrey</th>\n",
       "      <td>Jorge</td>\n",
       "      <td>2</td>\n",
       "      <td>2015</td>\n",
       "    </tr>\n",
       "    <tr>\n",
       "      <th>Sinaloa</th>\n",
       "      <td>Carlos</td>\n",
       "      <td>3</td>\n",
       "      <td>2015</td>\n",
       "    </tr>\n",
       "  </tbody>\n",
       "</table>\n",
       "</div>"
      ],
      "text/plain": [
       "                Nombre  reports  year\n",
       "Guadalajara  Alejandra       10    10\n",
       "Monterrey        Jorge        2  2015\n",
       "Sinaloa         Carlos        3  2015"
      ]
     },
     "execution_count": 40,
     "metadata": {},
     "output_type": "execute_result"
    }
   ],
   "source": [
    "# Si queremos modificar un valor especifico, \n",
    "# por ejemplo el nombre del Registro con índice \"Guadalajara\"\n",
    "# utilizamos la opción loc\n",
    "\n",
    "df_2.loc[df_2.index==\"Guadalajara\",\"Nombre\"] = 'Alejandra'\n",
    "df_2"
   ]
  },
  {
   "cell_type": "code",
   "execution_count": 42,
   "metadata": {
    "slideshow": {
     "slide_type": "slide"
    }
   },
   "outputs": [
    {
     "data": {
      "text/html": [
       "<div>\n",
       "<table border=\"1\" class=\"dataframe\">\n",
       "  <thead>\n",
       "    <tr style=\"text-align: right;\">\n",
       "      <th></th>\n",
       "      <th>Nombre</th>\n",
       "      <th>reports</th>\n",
       "      <th>year</th>\n",
       "    </tr>\n",
       "  </thead>\n",
       "  <tbody>\n",
       "    <tr>\n",
       "      <th>Guadalajara</th>\n",
       "      <td>Alejandra</td>\n",
       "      <td>1000</td>\n",
       "      <td>10</td>\n",
       "    </tr>\n",
       "    <tr>\n",
       "      <th>Monterrey</th>\n",
       "      <td>Jorge</td>\n",
       "      <td>2</td>\n",
       "      <td>2015</td>\n",
       "    </tr>\n",
       "    <tr>\n",
       "      <th>Sinaloa</th>\n",
       "      <td>Carlos</td>\n",
       "      <td>3</td>\n",
       "      <td>2015</td>\n",
       "    </tr>\n",
       "  </tbody>\n",
       "</table>\n",
       "</div>"
      ],
      "text/plain": [
       "                Nombre  reports  year\n",
       "Guadalajara  Alejandra     1000    10\n",
       "Monterrey        Jorge        2  2015\n",
       "Sinaloa         Carlos        3  2015"
      ]
     },
     "execution_count": 42,
     "metadata": {},
     "output_type": "execute_result"
    }
   ],
   "source": [
    "#Colocando valores en un renglón especifico y columna especifica\n",
    "df_2.iat[0,1] = 1000\n",
    "\n",
    "df_2"
   ]
  },
  {
   "cell_type": "code",
   "execution_count": 43,
   "metadata": {
    "slideshow": {
     "slide_type": "slide"
    }
   },
   "outputs": [
    {
     "data": {
      "text/plain": [
       "Guadalajara    Alejandra\n",
       "Name: Nombre, dtype: object"
      ]
     },
     "execution_count": 43,
     "metadata": {},
     "output_type": "execute_result"
    }
   ],
   "source": [
    "#Selección de fragmentos del dataframe\n",
    "df_2[df_2.index==\"Guadalajara\"]['Nombre']\n"
   ]
  },
  {
   "cell_type": "code",
   "execution_count": 45,
   "metadata": {
    "slideshow": {
     "slide_type": "slide"
    }
   },
   "outputs": [
    {
     "data": {
      "text/plain": [
       "Guadalajara    10\n",
       "Name: year, dtype: int64"
      ]
     },
     "execution_count": 45,
     "metadata": {},
     "output_type": "execute_result"
    }
   ],
   "source": [
    "df_2[df_2.reports >=100]['year']"
   ]
  },
  {
   "cell_type": "code",
   "execution_count": 54,
   "metadata": {
    "slideshow": {
     "slide_type": "slide"
    }
   },
   "outputs": [
    {
     "data": {
      "text/html": [
       "<div>\n",
       "<table border=\"1\" class=\"dataframe\">\n",
       "  <thead>\n",
       "    <tr style=\"text-align: right;\">\n",
       "      <th></th>\n",
       "      <th>one</th>\n",
       "      <th>three</th>\n",
       "      <th>two</th>\n",
       "    </tr>\n",
       "  </thead>\n",
       "  <tbody>\n",
       "    <tr>\n",
       "      <th>a</th>\n",
       "      <td>0.174891</td>\n",
       "      <td>NaN</td>\n",
       "      <td>0.010256</td>\n",
       "    </tr>\n",
       "    <tr>\n",
       "      <th>b</th>\n",
       "      <td>-1.922754</td>\n",
       "      <td>1.040841</td>\n",
       "      <td>-0.324310</td>\n",
       "    </tr>\n",
       "    <tr>\n",
       "      <th>c</th>\n",
       "      <td>-0.472022</td>\n",
       "      <td>0.735914</td>\n",
       "      <td>0.331830</td>\n",
       "    </tr>\n",
       "    <tr>\n",
       "      <th>d</th>\n",
       "      <td>NaN</td>\n",
       "      <td>-0.419111</td>\n",
       "      <td>0.080826</td>\n",
       "    </tr>\n",
       "  </tbody>\n",
       "</table>\n",
       "</div>"
      ],
      "text/plain": [
       "        one     three       two\n",
       "a  0.174891       NaN  0.010256\n",
       "b -1.922754  1.040841 -0.324310\n",
       "c -0.472022  0.735914  0.331830\n",
       "d       NaN -0.419111  0.080826"
      ]
     },
     "execution_count": 54,
     "metadata": {},
     "output_type": "execute_result"
    }
   ],
   "source": [
    "import numpy as np\n",
    "df_numeros = pd.DataFrame({\n",
    "'one' : pd.Series(np.random.randn(3), \n",
    "index=['a', 'b', 'c']),\n",
    "'two' : pd.Series(np.random.randn(4), \n",
    "index=['a', 'b', 'c', 'd']),\n",
    "'three' : pd.Series(np.random.randn(3), \n",
    "index=['b', 'c', 'd'])})\n",
    "\n",
    "\n",
    "df_numeros"
   ]
  },
  {
   "cell_type": "code",
   "execution_count": 55,
   "metadata": {
    "slideshow": {
     "slide_type": "slide"
    }
   },
   "outputs": [
    {
     "data": {
      "text/html": [
       "<div>\n",
       "<table border=\"1\" class=\"dataframe\">\n",
       "  <thead>\n",
       "    <tr style=\"text-align: right;\">\n",
       "      <th></th>\n",
       "      <th>C1</th>\n",
       "      <th>C2</th>\n",
       "      <th>C3</th>\n",
       "    </tr>\n",
       "  </thead>\n",
       "  <tbody>\n",
       "    <tr>\n",
       "      <th>a</th>\n",
       "      <td>0.174891</td>\n",
       "      <td>NaN</td>\n",
       "      <td>0.010256</td>\n",
       "    </tr>\n",
       "    <tr>\n",
       "      <th>b</th>\n",
       "      <td>-1.922754</td>\n",
       "      <td>1.040841</td>\n",
       "      <td>-0.324310</td>\n",
       "    </tr>\n",
       "    <tr>\n",
       "      <th>c</th>\n",
       "      <td>-0.472022</td>\n",
       "      <td>0.735914</td>\n",
       "      <td>0.331830</td>\n",
       "    </tr>\n",
       "    <tr>\n",
       "      <th>d</th>\n",
       "      <td>NaN</td>\n",
       "      <td>-0.419111</td>\n",
       "      <td>0.080826</td>\n",
       "    </tr>\n",
       "  </tbody>\n",
       "</table>\n",
       "</div>"
      ],
      "text/plain": [
       "         C1        C2        C3\n",
       "a  0.174891       NaN  0.010256\n",
       "b -1.922754  1.040841 -0.324310\n",
       "c -0.472022  0.735914  0.331830\n",
       "d       NaN -0.419111  0.080826"
      ]
     },
     "execution_count": 55,
     "metadata": {},
     "output_type": "execute_result"
    }
   ],
   "source": [
    "df_numeros.columns = ['C1','C2','C3']\n",
    "df_numeros"
   ]
  },
  {
   "cell_type": "code",
   "execution_count": 619,
   "metadata": {
    "slideshow": {
     "slide_type": "slide"
    }
   },
   "outputs": [
    {
     "data": {
      "text/html": [
       "<div>\n",
       "<table border=\"1\" class=\"dataframe\">\n",
       "  <thead>\n",
       "    <tr style=\"text-align: right;\">\n",
       "      <th></th>\n",
       "      <th>C1</th>\n",
       "      <th>C2</th>\n",
       "      <th>C3</th>\n",
       "    </tr>\n",
       "  </thead>\n",
       "  <tbody>\n",
       "    <tr>\n",
       "      <th>c</th>\n",
       "      <td>0.752893</td>\n",
       "      <td>1.034588</td>\n",
       "      <td>0.500686</td>\n",
       "    </tr>\n",
       "  </tbody>\n",
       "</table>\n",
       "</div>"
      ],
      "text/plain": [
       "         C1        C2        C3\n",
       "c  0.752893  1.034588  0.500686"
      ]
     },
     "execution_count": 619,
     "metadata": {},
     "output_type": "execute_result"
    }
   ],
   "source": [
    "df_numeros[df_numeros.C1 > 0]"
   ]
  },
  {
   "cell_type": "code",
   "execution_count": 56,
   "metadata": {
    "slideshow": {
     "slide_type": "slide"
    }
   },
   "outputs": [
    {
     "data": {
      "text/html": [
       "<div>\n",
       "<table border=\"1\" class=\"dataframe\">\n",
       "  <thead>\n",
       "    <tr style=\"text-align: right;\">\n",
       "      <th></th>\n",
       "      <th>C1</th>\n",
       "      <th>C2</th>\n",
       "      <th>C3</th>\n",
       "    </tr>\n",
       "  </thead>\n",
       "  <tbody>\n",
       "    <tr>\n",
       "      <th>a</th>\n",
       "      <td>0.174891</td>\n",
       "      <td>NaN</td>\n",
       "      <td>0.010256</td>\n",
       "    </tr>\n",
       "    <tr>\n",
       "      <th>b</th>\n",
       "      <td>NaN</td>\n",
       "      <td>1.040841</td>\n",
       "      <td>NaN</td>\n",
       "    </tr>\n",
       "    <tr>\n",
       "      <th>c</th>\n",
       "      <td>NaN</td>\n",
       "      <td>0.735914</td>\n",
       "      <td>0.331830</td>\n",
       "    </tr>\n",
       "    <tr>\n",
       "      <th>d</th>\n",
       "      <td>NaN</td>\n",
       "      <td>NaN</td>\n",
       "      <td>0.080826</td>\n",
       "    </tr>\n",
       "  </tbody>\n",
       "</table>\n",
       "</div>"
      ],
      "text/plain": [
       "         C1        C2        C3\n",
       "a  0.174891       NaN  0.010256\n",
       "b       NaN  1.040841       NaN\n",
       "c       NaN  0.735914  0.331830\n",
       "d       NaN       NaN  0.080826"
      ]
     },
     "execution_count": 56,
     "metadata": {},
     "output_type": "execute_result"
    }
   ],
   "source": [
    "df_numeros[df_numeros > 0]"
   ]
  },
  {
   "cell_type": "code",
   "execution_count": 57,
   "metadata": {
    "slideshow": {
     "slide_type": "slide"
    }
   },
   "outputs": [
    {
     "data": {
      "text/html": [
       "<div>\n",
       "<table border=\"1\" class=\"dataframe\">\n",
       "  <thead>\n",
       "    <tr style=\"text-align: right;\">\n",
       "      <th></th>\n",
       "      <th>C1</th>\n",
       "      <th>C2</th>\n",
       "      <th>C3</th>\n",
       "      <th>C4</th>\n",
       "    </tr>\n",
       "  </thead>\n",
       "  <tbody>\n",
       "    <tr>\n",
       "      <th>a</th>\n",
       "      <td>0.174891</td>\n",
       "      <td>NaN</td>\n",
       "      <td>0.010256</td>\n",
       "      <td>NaN</td>\n",
       "    </tr>\n",
       "    <tr>\n",
       "      <th>b</th>\n",
       "      <td>-1.922754</td>\n",
       "      <td>1.040841</td>\n",
       "      <td>-0.324310</td>\n",
       "      <td>NaN</td>\n",
       "    </tr>\n",
       "    <tr>\n",
       "      <th>c</th>\n",
       "      <td>-0.472022</td>\n",
       "      <td>0.735914</td>\n",
       "      <td>0.331830</td>\n",
       "      <td>NaN</td>\n",
       "    </tr>\n",
       "    <tr>\n",
       "      <th>d</th>\n",
       "      <td>NaN</td>\n",
       "      <td>-0.419111</td>\n",
       "      <td>0.080826</td>\n",
       "      <td>NaN</td>\n",
       "    </tr>\n",
       "    <tr>\n",
       "      <th>e</th>\n",
       "      <td>NaN</td>\n",
       "      <td>NaN</td>\n",
       "      <td>NaN</td>\n",
       "      <td>NaN</td>\n",
       "    </tr>\n",
       "  </tbody>\n",
       "</table>\n",
       "</div>"
      ],
      "text/plain": [
       "         C1        C2        C3  C4\n",
       "a  0.174891       NaN  0.010256 NaN\n",
       "b -1.922754  1.040841 -0.324310 NaN\n",
       "c -0.472022  0.735914  0.331830 NaN\n",
       "d       NaN -0.419111  0.080826 NaN\n",
       "e       NaN       NaN       NaN NaN"
      ]
     },
     "execution_count": 57,
     "metadata": {},
     "output_type": "execute_result"
    }
   ],
   "source": [
    "#Re-indexado\n",
    "\n",
    "df_numeros = df_numeros.reindex(index=list(df_numeros.index)+['e'], \n",
    "                        columns=list(df_numeros.columns) + ['C4'])\n",
    "df_numeros\n"
   ]
  },
  {
   "cell_type": "code",
   "execution_count": 58,
   "metadata": {
    "slideshow": {
     "slide_type": "slide"
    }
   },
   "outputs": [
    {
     "data": {
      "text/html": [
       "<div>\n",
       "<table border=\"1\" class=\"dataframe\">\n",
       "  <thead>\n",
       "    <tr style=\"text-align: right;\">\n",
       "      <th></th>\n",
       "      <th>C1</th>\n",
       "      <th>C2</th>\n",
       "      <th>C3</th>\n",
       "      <th>C4</th>\n",
       "    </tr>\n",
       "  </thead>\n",
       "  <tbody>\n",
       "    <tr>\n",
       "      <th>a</th>\n",
       "      <td>0.174891</td>\n",
       "      <td>NaN</td>\n",
       "      <td>0.010256</td>\n",
       "      <td>NaN</td>\n",
       "    </tr>\n",
       "  </tbody>\n",
       "</table>\n",
       "</div>"
      ],
      "text/plain": [
       "         C1  C2        C3  C4\n",
       "a  0.174891 NaN  0.010256 NaN"
      ]
     },
     "execution_count": 58,
     "metadata": {},
     "output_type": "execute_result"
    }
   ],
   "source": [
    "df_numeros[df_numeros.C1 > 0]"
   ]
  },
  {
   "cell_type": "code",
   "execution_count": 59,
   "metadata": {
    "slideshow": {
     "slide_type": "slide"
    }
   },
   "outputs": [
    {
     "data": {
      "text/html": [
       "<div>\n",
       "<table border=\"1\" class=\"dataframe\">\n",
       "  <thead>\n",
       "    <tr style=\"text-align: right;\">\n",
       "      <th></th>\n",
       "      <th>C1</th>\n",
       "      <th>C2</th>\n",
       "      <th>C3</th>\n",
       "      <th>C4</th>\n",
       "    </tr>\n",
       "  </thead>\n",
       "  <tbody>\n",
       "    <tr>\n",
       "      <th>a</th>\n",
       "      <td>0.174891</td>\n",
       "      <td>NaN</td>\n",
       "      <td>0.010256</td>\n",
       "      <td>NaN</td>\n",
       "    </tr>\n",
       "    <tr>\n",
       "      <th>b</th>\n",
       "      <td>NaN</td>\n",
       "      <td>1.040841</td>\n",
       "      <td>NaN</td>\n",
       "      <td>NaN</td>\n",
       "    </tr>\n",
       "    <tr>\n",
       "      <th>c</th>\n",
       "      <td>NaN</td>\n",
       "      <td>0.735914</td>\n",
       "      <td>0.331830</td>\n",
       "      <td>NaN</td>\n",
       "    </tr>\n",
       "    <tr>\n",
       "      <th>d</th>\n",
       "      <td>NaN</td>\n",
       "      <td>NaN</td>\n",
       "      <td>0.080826</td>\n",
       "      <td>NaN</td>\n",
       "    </tr>\n",
       "    <tr>\n",
       "      <th>e</th>\n",
       "      <td>NaN</td>\n",
       "      <td>NaN</td>\n",
       "      <td>NaN</td>\n",
       "      <td>NaN</td>\n",
       "    </tr>\n",
       "  </tbody>\n",
       "</table>\n",
       "</div>"
      ],
      "text/plain": [
       "         C1        C2        C3  C4\n",
       "a  0.174891       NaN  0.010256 NaN\n",
       "b       NaN  1.040841       NaN NaN\n",
       "c       NaN  0.735914  0.331830 NaN\n",
       "d       NaN       NaN  0.080826 NaN\n",
       "e       NaN       NaN       NaN NaN"
      ]
     },
     "execution_count": 59,
     "metadata": {},
     "output_type": "execute_result"
    }
   ],
   "source": [
    "df_numeros[df_numeros > 0]"
   ]
  },
  {
   "cell_type": "code",
   "execution_count": 63,
   "metadata": {
    "slideshow": {
     "slide_type": "slide"
    }
   },
   "outputs": [
    {
     "data": {
      "text/html": [
       "<div>\n",
       "<table border=\"1\" class=\"dataframe\">\n",
       "  <thead>\n",
       "    <tr style=\"text-align: right;\">\n",
       "      <th></th>\n",
       "      <th>C1</th>\n",
       "      <th>C2</th>\n",
       "      <th>C3</th>\n",
       "      <th>C4</th>\n",
       "    </tr>\n",
       "  </thead>\n",
       "  <tbody>\n",
       "  </tbody>\n",
       "</table>\n",
       "</div>"
      ],
      "text/plain": [
       "Empty DataFrame\n",
       "Columns: [C1, C2, C3, C4]\n",
       "Index: []"
      ]
     },
     "execution_count": 63,
     "metadata": {},
     "output_type": "execute_result"
    }
   ],
   "source": [
    "#Missing data\n",
    "#To drop any rows that have missing data.\n",
    "#Si alguno elemento de la observación tiene missing data \n",
    "#borra toda la observación\n",
    "df_numeros_nona = df_numeros.dropna(how='any')\n",
    "\n",
    "#Si todos los elementos son NAN borra la observación\n",
    "\n",
    "df_numeros_nona"
   ]
  },
  {
   "cell_type": "code",
   "execution_count": 64,
   "metadata": {},
   "outputs": [
    {
     "data": {
      "text/html": [
       "<div>\n",
       "<table border=\"1\" class=\"dataframe\">\n",
       "  <thead>\n",
       "    <tr style=\"text-align: right;\">\n",
       "      <th></th>\n",
       "      <th>C1</th>\n",
       "      <th>C2</th>\n",
       "      <th>C3</th>\n",
       "    </tr>\n",
       "  </thead>\n",
       "  <tbody>\n",
       "    <tr>\n",
       "      <th>a</th>\n",
       "      <td>0.174891</td>\n",
       "      <td>NaN</td>\n",
       "      <td>0.010256</td>\n",
       "    </tr>\n",
       "    <tr>\n",
       "      <th>b</th>\n",
       "      <td>-1.922754</td>\n",
       "      <td>1.040841</td>\n",
       "      <td>-0.324310</td>\n",
       "    </tr>\n",
       "    <tr>\n",
       "      <th>c</th>\n",
       "      <td>-0.472022</td>\n",
       "      <td>0.735914</td>\n",
       "      <td>0.331830</td>\n",
       "    </tr>\n",
       "    <tr>\n",
       "      <th>d</th>\n",
       "      <td>NaN</td>\n",
       "      <td>-0.419111</td>\n",
       "      <td>0.080826</td>\n",
       "    </tr>\n",
       "    <tr>\n",
       "      <th>e</th>\n",
       "      <td>NaN</td>\n",
       "      <td>NaN</td>\n",
       "      <td>NaN</td>\n",
       "    </tr>\n",
       "  </tbody>\n",
       "</table>\n",
       "</div>"
      ],
      "text/plain": [
       "         C1        C2        C3\n",
       "a  0.174891       NaN  0.010256\n",
       "b -1.922754  1.040841 -0.324310\n",
       "c -0.472022  0.735914  0.331830\n",
       "d       NaN -0.419111  0.080826\n",
       "e       NaN       NaN       NaN"
      ]
     },
     "execution_count": 64,
     "metadata": {},
     "output_type": "execute_result"
    }
   ],
   "source": [
    "df_numeros_nona = df_numeros.dropna(how='all', axis=1)\n",
    "\n",
    "df_numeros_nona\n",
    "\n"
   ]
  },
  {
   "cell_type": "code",
   "execution_count": 65,
   "metadata": {
    "slideshow": {
     "slide_type": "slide"
    }
   },
   "outputs": [
    {
     "data": {
      "text/html": [
       "<div>\n",
       "<table border=\"1\" class=\"dataframe\">\n",
       "  <thead>\n",
       "    <tr style=\"text-align: right;\">\n",
       "      <th></th>\n",
       "      <th>C1</th>\n",
       "      <th>C2</th>\n",
       "      <th>C3</th>\n",
       "      <th>C4</th>\n",
       "    </tr>\n",
       "  </thead>\n",
       "  <tbody>\n",
       "    <tr>\n",
       "      <th>a</th>\n",
       "      <td>0.174891</td>\n",
       "      <td>5.000000</td>\n",
       "      <td>0.010256</td>\n",
       "      <td>5.0</td>\n",
       "    </tr>\n",
       "    <tr>\n",
       "      <th>b</th>\n",
       "      <td>-1.922754</td>\n",
       "      <td>1.040841</td>\n",
       "      <td>-0.324310</td>\n",
       "      <td>5.0</td>\n",
       "    </tr>\n",
       "    <tr>\n",
       "      <th>c</th>\n",
       "      <td>-0.472022</td>\n",
       "      <td>0.735914</td>\n",
       "      <td>0.331830</td>\n",
       "      <td>5.0</td>\n",
       "    </tr>\n",
       "    <tr>\n",
       "      <th>d</th>\n",
       "      <td>5.000000</td>\n",
       "      <td>-0.419111</td>\n",
       "      <td>0.080826</td>\n",
       "      <td>5.0</td>\n",
       "    </tr>\n",
       "    <tr>\n",
       "      <th>e</th>\n",
       "      <td>5.000000</td>\n",
       "      <td>5.000000</td>\n",
       "      <td>5.000000</td>\n",
       "      <td>5.0</td>\n",
       "    </tr>\n",
       "  </tbody>\n",
       "</table>\n",
       "</div>"
      ],
      "text/plain": [
       "         C1        C2        C3   C4\n",
       "a  0.174891  5.000000  0.010256  5.0\n",
       "b -1.922754  1.040841 -0.324310  5.0\n",
       "c -0.472022  0.735914  0.331830  5.0\n",
       "d  5.000000 -0.419111  0.080826  5.0\n",
       "e  5.000000  5.000000  5.000000  5.0"
      ]
     },
     "execution_count": 65,
     "metadata": {},
     "output_type": "execute_result"
    }
   ],
   "source": [
    "#Filling missing data\n",
    "df_numeros_nona = df_numeros.fillna(value=5)\n",
    "df_numeros_nona"
   ]
  },
  {
   "cell_type": "code",
   "execution_count": 66,
   "metadata": {
    "slideshow": {
     "slide_type": "slide"
    }
   },
   "outputs": [
    {
     "data": {
      "text/html": [
       "<div>\n",
       "<table border=\"1\" class=\"dataframe\">\n",
       "  <thead>\n",
       "    <tr style=\"text-align: right;\">\n",
       "      <th></th>\n",
       "      <th>A</th>\n",
       "      <th>B</th>\n",
       "      <th>C</th>\n",
       "      <th>D</th>\n",
       "    </tr>\n",
       "  </thead>\n",
       "  <tbody>\n",
       "    <tr>\n",
       "      <th>0</th>\n",
       "      <td>-0.565528</td>\n",
       "      <td>1.256361</td>\n",
       "      <td>0.944172</td>\n",
       "      <td>0.339928</td>\n",
       "    </tr>\n",
       "    <tr>\n",
       "      <th>1</th>\n",
       "      <td>-1.003912</td>\n",
       "      <td>0.051469</td>\n",
       "      <td>0.206023</td>\n",
       "      <td>0.978341</td>\n",
       "    </tr>\n",
       "    <tr>\n",
       "      <th>2</th>\n",
       "      <td>0.624192</td>\n",
       "      <td>0.420492</td>\n",
       "      <td>0.246161</td>\n",
       "      <td>2.733592</td>\n",
       "    </tr>\n",
       "    <tr>\n",
       "      <th>3</th>\n",
       "      <td>-0.864671</td>\n",
       "      <td>-1.367889</td>\n",
       "      <td>-0.344099</td>\n",
       "      <td>0.455427</td>\n",
       "    </tr>\n",
       "    <tr>\n",
       "      <th>4</th>\n",
       "      <td>-1.240942</td>\n",
       "      <td>-1.006943</td>\n",
       "      <td>1.416863</td>\n",
       "      <td>0.289610</td>\n",
       "    </tr>\n",
       "    <tr>\n",
       "      <th>5</th>\n",
       "      <td>0.963384</td>\n",
       "      <td>0.236580</td>\n",
       "      <td>2.697727</td>\n",
       "      <td>0.445973</td>\n",
       "    </tr>\n",
       "    <tr>\n",
       "      <th>6</th>\n",
       "      <td>0.195778</td>\n",
       "      <td>0.015544</td>\n",
       "      <td>-1.136599</td>\n",
       "      <td>-0.050604</td>\n",
       "    </tr>\n",
       "    <tr>\n",
       "      <th>7</th>\n",
       "      <td>1.430125</td>\n",
       "      <td>-0.969026</td>\n",
       "      <td>-0.544230</td>\n",
       "      <td>0.908039</td>\n",
       "    </tr>\n",
       "  </tbody>\n",
       "</table>\n",
       "</div>"
      ],
      "text/plain": [
       "          A         B         C         D\n",
       "0 -0.565528  1.256361  0.944172  0.339928\n",
       "1 -1.003912  0.051469  0.206023  0.978341\n",
       "2  0.624192  0.420492  0.246161  2.733592\n",
       "3 -0.864671 -1.367889 -0.344099  0.455427\n",
       "4 -1.240942 -1.006943  1.416863  0.289610\n",
       "5  0.963384  0.236580  2.697727  0.445973\n",
       "6  0.195778  0.015544 -1.136599 -0.050604\n",
       "7  1.430125 -0.969026 -0.544230  0.908039"
      ]
     },
     "execution_count": 66,
     "metadata": {},
     "output_type": "execute_result"
    }
   ],
   "source": [
    "dframe = pd.DataFrame(np.random.randn(8, 4), \n",
    "        columns=['A','B','C','D'])\n",
    "dframe\n"
   ]
  },
  {
   "cell_type": "code",
   "execution_count": 67,
   "metadata": {
    "scrolled": true,
    "slideshow": {
     "slide_type": "slide"
    }
   },
   "outputs": [
    {
     "data": {
      "text/plain": [
       "A   -0.864671\n",
       "B   -1.367889\n",
       "C   -0.344099\n",
       "D    0.455427\n",
       "Name: 3, dtype: float64"
      ]
     },
     "execution_count": 67,
     "metadata": {},
     "output_type": "execute_result"
    }
   ],
   "source": [
    "s=dframe.iloc[3] #Copiamos un valor de dataframe\n",
    "s"
   ]
  },
  {
   "cell_type": "code",
   "execution_count": 71,
   "metadata": {
    "slideshow": {
     "slide_type": "slide"
    }
   },
   "outputs": [
    {
     "data": {
      "text/html": [
       "<div>\n",
       "<table border=\"1\" class=\"dataframe\">\n",
       "  <thead>\n",
       "    <tr style=\"text-align: right;\">\n",
       "      <th></th>\n",
       "      <th>A</th>\n",
       "      <th>B</th>\n",
       "      <th>C</th>\n",
       "      <th>D</th>\n",
       "    </tr>\n",
       "  </thead>\n",
       "  <tbody>\n",
       "    <tr>\n",
       "      <th>0</th>\n",
       "      <td>-0.565528</td>\n",
       "      <td>1.256361</td>\n",
       "      <td>0.944172</td>\n",
       "      <td>0.339928</td>\n",
       "    </tr>\n",
       "    <tr>\n",
       "      <th>1</th>\n",
       "      <td>-1.003912</td>\n",
       "      <td>0.051469</td>\n",
       "      <td>0.206023</td>\n",
       "      <td>0.978341</td>\n",
       "    </tr>\n",
       "    <tr>\n",
       "      <th>2</th>\n",
       "      <td>0.624192</td>\n",
       "      <td>0.420492</td>\n",
       "      <td>0.246161</td>\n",
       "      <td>2.733592</td>\n",
       "    </tr>\n",
       "    <tr>\n",
       "      <th>3</th>\n",
       "      <td>-0.864671</td>\n",
       "      <td>-1.367889</td>\n",
       "      <td>-0.344099</td>\n",
       "      <td>0.455427</td>\n",
       "    </tr>\n",
       "    <tr>\n",
       "      <th>4</th>\n",
       "      <td>-1.240942</td>\n",
       "      <td>-1.006943</td>\n",
       "      <td>1.416863</td>\n",
       "      <td>0.289610</td>\n",
       "    </tr>\n",
       "    <tr>\n",
       "      <th>5</th>\n",
       "      <td>0.963384</td>\n",
       "      <td>0.236580</td>\n",
       "      <td>2.697727</td>\n",
       "      <td>0.445973</td>\n",
       "    </tr>\n",
       "    <tr>\n",
       "      <th>6</th>\n",
       "      <td>0.195778</td>\n",
       "      <td>0.015544</td>\n",
       "      <td>-1.136599</td>\n",
       "      <td>-0.050604</td>\n",
       "    </tr>\n",
       "    <tr>\n",
       "      <th>7</th>\n",
       "      <td>1.430125</td>\n",
       "      <td>-0.969026</td>\n",
       "      <td>-0.544230</td>\n",
       "      <td>0.908039</td>\n",
       "    </tr>\n",
       "    <tr>\n",
       "      <th>8</th>\n",
       "      <td>-0.864671</td>\n",
       "      <td>-1.367889</td>\n",
       "      <td>-0.344099</td>\n",
       "      <td>0.455427</td>\n",
       "    </tr>\n",
       "  </tbody>\n",
       "</table>\n",
       "</div>"
      ],
      "text/plain": [
       "          A         B         C         D\n",
       "0 -0.565528  1.256361  0.944172  0.339928\n",
       "1 -1.003912  0.051469  0.206023  0.978341\n",
       "2  0.624192  0.420492  0.246161  2.733592\n",
       "3 -0.864671 -1.367889 -0.344099  0.455427\n",
       "4 -1.240942 -1.006943  1.416863  0.289610\n",
       "5  0.963384  0.236580  2.697727  0.445973\n",
       "6  0.195778  0.015544 -1.136599 -0.050604\n",
       "7  1.430125 -0.969026 -0.544230  0.908039\n",
       "8 -0.864671 -1.367889 -0.344099  0.455427"
      ]
     },
     "execution_count": 71,
     "metadata": {},
     "output_type": "execute_result"
    }
   ],
   "source": [
    "#Agregar un renglón al dataframe\n",
    "df_nuevo=dframe.append(s,ignore_index=True)\n",
    "df_nuevo"
   ]
  },
  {
   "cell_type": "code",
   "execution_count": 46,
   "metadata": {
    "slideshow": {
     "slide_type": "slide"
    }
   },
   "outputs": [
    {
     "data": {
      "text/html": [
       "<div>\n",
       "<table border=\"1\" class=\"dataframe\">\n",
       "  <thead>\n",
       "    <tr style=\"text-align: right;\">\n",
       "      <th></th>\n",
       "      <th>A</th>\n",
       "      <th>B</th>\n",
       "      <th>C</th>\n",
       "      <th>D</th>\n",
       "    </tr>\n",
       "  </thead>\n",
       "  <tbody>\n",
       "    <tr>\n",
       "      <th>0</th>\n",
       "      <td>-0.505759</td>\n",
       "      <td>0.362071</td>\n",
       "      <td>-0.289255</td>\n",
       "      <td>-0.117031</td>\n",
       "    </tr>\n",
       "    <tr>\n",
       "      <th>1</th>\n",
       "      <td>0.184065</td>\n",
       "      <td>-0.934977</td>\n",
       "      <td>1.549899</td>\n",
       "      <td>-0.071344</td>\n",
       "    </tr>\n",
       "    <tr>\n",
       "      <th>2</th>\n",
       "      <td>-0.109178</td>\n",
       "      <td>1.022630</td>\n",
       "      <td>-0.104068</td>\n",
       "      <td>0.789313</td>\n",
       "    </tr>\n",
       "    <tr>\n",
       "      <th>3</th>\n",
       "      <td>-0.854098</td>\n",
       "      <td>1.830736</td>\n",
       "      <td>0.401189</td>\n",
       "      <td>-0.046734</td>\n",
       "    </tr>\n",
       "    <tr>\n",
       "      <th>4</th>\n",
       "      <td>-0.743508</td>\n",
       "      <td>0.746445</td>\n",
       "      <td>-0.442784</td>\n",
       "      <td>-0.425863</td>\n",
       "    </tr>\n",
       "    <tr>\n",
       "      <th>5</th>\n",
       "      <td>0.398668</td>\n",
       "      <td>-1.194830</td>\n",
       "      <td>-1.120134</td>\n",
       "      <td>0.222439</td>\n",
       "    </tr>\n",
       "    <tr>\n",
       "      <th>6</th>\n",
       "      <td>-0.667413</td>\n",
       "      <td>-1.551989</td>\n",
       "      <td>0.286814</td>\n",
       "      <td>-1.468408</td>\n",
       "    </tr>\n",
       "    <tr>\n",
       "      <th>7</th>\n",
       "      <td>0.106746</td>\n",
       "      <td>1.349772</td>\n",
       "      <td>0.101672</td>\n",
       "      <td>-0.088193</td>\n",
       "    </tr>\n",
       "    <tr>\n",
       "      <th>8</th>\n",
       "      <td>-0.854098</td>\n",
       "      <td>1.830736</td>\n",
       "      <td>0.401189</td>\n",
       "      <td>-0.046734</td>\n",
       "    </tr>\n",
       "  </tbody>\n",
       "</table>\n",
       "</div>"
      ],
      "text/plain": [
       "          A         B         C         D\n",
       "0 -0.505759  0.362071 -0.289255 -0.117031\n",
       "1  0.184065 -0.934977  1.549899 -0.071344\n",
       "2 -0.109178  1.022630 -0.104068  0.789313\n",
       "3 -0.854098  1.830736  0.401189 -0.046734\n",
       "4 -0.743508  0.746445 -0.442784 -0.425863\n",
       "5  0.398668 -1.194830 -1.120134  0.222439\n",
       "6 -0.667413 -1.551989  0.286814 -1.468408\n",
       "7  0.106746  1.349772  0.101672 -0.088193\n",
       "8 -0.854098  1.830736  0.401189 -0.046734"
      ]
     },
     "execution_count": 46,
     "metadata": {},
     "output_type": "execute_result"
    }
   ],
   "source": [
    "df_nuevo"
   ]
  },
  {
   "cell_type": "code",
   "execution_count": 47,
   "metadata": {
    "slideshow": {
     "slide_type": "slide"
    }
   },
   "outputs": [
    {
     "data": {
      "text/html": [
       "<div>\n",
       "<table border=\"1\" class=\"dataframe\">\n",
       "  <thead>\n",
       "    <tr style=\"text-align: right;\">\n",
       "      <th></th>\n",
       "      <th>Nombre</th>\n",
       "    </tr>\n",
       "  </thead>\n",
       "  <tbody>\n",
       "    <tr>\n",
       "      <th>Guadalajara</th>\n",
       "      <td>Lucia</td>\n",
       "    </tr>\n",
       "  </tbody>\n",
       "</table>\n",
       "</div>"
      ],
      "text/plain": [
       "            Nombre\n",
       "Guadalajara  Lucia"
      ]
     },
     "execution_count": 47,
     "metadata": {},
     "output_type": "execute_result"
    }
   ],
   "source": [
    "#Seleccionar por posición\n",
    "\n",
    "df.iloc[1:3,:] # rebanadas por renglones\n",
    "df.iloc[:,1:3] # Rebanadas por columas\n",
    "df.iloc[1,1] # Tomando un valor explicitamente \n",
    "df.iloc[:1,:1]"
   ]
  },
  {
   "cell_type": "code",
   "execution_count": 13,
   "metadata": {
    "slideshow": {
     "slide_type": "slide"
    }
   },
   "outputs": [
    {
     "data": {
      "text/html": [
       "<div>\n",
       "<table border=\"1\" class=\"dataframe\">\n",
       "  <thead>\n",
       "    <tr style=\"text-align: right;\">\n",
       "      <th></th>\n",
       "      <th>Nombre</th>\n",
       "      <th>reports</th>\n",
       "      <th>year</th>\n",
       "    </tr>\n",
       "  </thead>\n",
       "  <tbody>\n",
       "    <tr>\n",
       "      <th>Mexico</th>\n",
       "      <td>True</td>\n",
       "      <td>True</td>\n",
       "      <td>True</td>\n",
       "    </tr>\n",
       "    <tr>\n",
       "      <th>Aguascalientes</th>\n",
       "      <td>True</td>\n",
       "      <td>True</td>\n",
       "      <td>True</td>\n",
       "    </tr>\n",
       "    <tr>\n",
       "      <th>Guadalajara</th>\n",
       "      <td>True</td>\n",
       "      <td>True</td>\n",
       "      <td>True</td>\n",
       "    </tr>\n",
       "    <tr>\n",
       "      <th>Monterrey</th>\n",
       "      <td>True</td>\n",
       "      <td>True</td>\n",
       "      <td>True</td>\n",
       "    </tr>\n",
       "    <tr>\n",
       "      <th>Sinaloa</th>\n",
       "      <td>True</td>\n",
       "      <td>True</td>\n",
       "      <td>True</td>\n",
       "    </tr>\n",
       "  </tbody>\n",
       "</table>\n",
       "</div>"
      ],
      "text/plain": [
       "               Nombre reports  year\n",
       "Mexico           True    True  True\n",
       "Aguascalientes   True    True  True\n",
       "Guadalajara      True    True  True\n",
       "Monterrey        True    True  True\n",
       "Sinaloa          True    True  True"
      ]
     },
     "execution_count": 13,
     "metadata": {},
     "output_type": "execute_result"
    }
   ],
   "source": [
    "''' Existen métodos de comparación booleana para \n",
    "los Dataframes: eq, ne, lt, gt, le, y ge.\n",
    " eq : igual a \n",
    " ne: no igual a\n",
    " lt: menor que\n",
    " gt: mayor que\n",
    " le y ge : menore igual, mayor e igual\n",
    "'''\n",
    "df2=df\n",
    "df.eq(df2)\n"
   ]
  },
  {
   "cell_type": "code",
   "execution_count": 72,
   "metadata": {
    "slideshow": {
     "slide_type": "slide"
    }
   },
   "outputs": [
    {
     "data": {
      "text/html": [
       "<div>\n",
       "<table border=\"1\" class=\"dataframe\">\n",
       "  <thead>\n",
       "    <tr style=\"text-align: right;\">\n",
       "      <th></th>\n",
       "      <th>b</th>\n",
       "      <th>d</th>\n",
       "      <th>e</th>\n",
       "    </tr>\n",
       "  </thead>\n",
       "  <tbody>\n",
       "    <tr>\n",
       "      <th>Utah</th>\n",
       "      <td>-1.477824</td>\n",
       "      <td>-0.019066</td>\n",
       "      <td>1.096037</td>\n",
       "    </tr>\n",
       "    <tr>\n",
       "      <th>Ohio</th>\n",
       "      <td>-2.206196</td>\n",
       "      <td>0.961892</td>\n",
       "      <td>-0.104363</td>\n",
       "    </tr>\n",
       "    <tr>\n",
       "      <th>Texas</th>\n",
       "      <td>0.742849</td>\n",
       "      <td>-0.606353</td>\n",
       "      <td>0.816215</td>\n",
       "    </tr>\n",
       "    <tr>\n",
       "      <th>Oregon</th>\n",
       "      <td>0.634214</td>\n",
       "      <td>0.821172</td>\n",
       "      <td>1.272540</td>\n",
       "    </tr>\n",
       "  </tbody>\n",
       "</table>\n",
       "</div>"
      ],
      "text/plain": [
       "               b         d         e\n",
       "Utah   -1.477824 -0.019066  1.096037\n",
       "Ohio   -2.206196  0.961892 -0.104363\n",
       "Texas   0.742849 -0.606353  0.816215\n",
       "Oregon  0.634214  0.821172  1.272540"
      ]
     },
     "execution_count": 72,
     "metadata": {},
     "output_type": "execute_result"
    }
   ],
   "source": [
    "import numpy as np\n",
    "#Apply \n",
    "frame = DataFrame(np.random.randn(4, 3), \n",
    "                columns=list('bde'), \n",
    "                  index=['Utah', 'Ohio', 'Texas', 'Oregon'])\n",
    "\n",
    "frame"
   ]
  },
  {
   "cell_type": "code",
   "execution_count": 73,
   "metadata": {
    "slideshow": {
     "slide_type": "slide"
    }
   },
   "outputs": [
    {
     "data": {
      "text/html": [
       "<div>\n",
       "<table border=\"1\" class=\"dataframe\">\n",
       "  <thead>\n",
       "    <tr style=\"text-align: right;\">\n",
       "      <th></th>\n",
       "      <th>b</th>\n",
       "      <th>d</th>\n",
       "      <th>e</th>\n",
       "    </tr>\n",
       "  </thead>\n",
       "  <tbody>\n",
       "    <tr>\n",
       "      <th>Utah</th>\n",
       "      <td>NaN</td>\n",
       "      <td>NaN</td>\n",
       "      <td>1.046918</td>\n",
       "    </tr>\n",
       "    <tr>\n",
       "      <th>Ohio</th>\n",
       "      <td>NaN</td>\n",
       "      <td>0.980761</td>\n",
       "      <td>NaN</td>\n",
       "    </tr>\n",
       "    <tr>\n",
       "      <th>Texas</th>\n",
       "      <td>0.861887</td>\n",
       "      <td>NaN</td>\n",
       "      <td>0.903446</td>\n",
       "    </tr>\n",
       "    <tr>\n",
       "      <th>Oregon</th>\n",
       "      <td>0.796375</td>\n",
       "      <td>0.906186</td>\n",
       "      <td>1.128069</td>\n",
       "    </tr>\n",
       "  </tbody>\n",
       "</table>\n",
       "</div>"
      ],
      "text/plain": [
       "               b         d         e\n",
       "Utah         NaN       NaN  1.046918\n",
       "Ohio         NaN  0.980761       NaN\n",
       "Texas   0.861887       NaN  0.903446\n",
       "Oregon  0.796375  0.906186  1.128069"
      ]
     },
     "execution_count": 73,
     "metadata": {},
     "output_type": "execute_result"
    }
   ],
   "source": [
    "f=frame.apply(np.sqrt) # regresa un DataFrame\n",
    "f\n"
   ]
  },
  {
   "cell_type": "code",
   "execution_count": 51,
   "metadata": {
    "slideshow": {
     "slide_type": "slide"
    }
   },
   "outputs": [
    {
     "data": {
      "text/plain": [
       "Utah     -1.770296\n",
       "Ohio      1.842479\n",
       "Texas     3.104558\n",
       "Oregon    1.028145\n",
       "dtype: float64"
      ]
     },
     "execution_count": 51,
     "metadata": {},
     "output_type": "execute_result"
    }
   ],
   "source": [
    "f=frame.apply(np.sum, axis=1) #axis=0 columnas, axis=1 filas\n",
    "f"
   ]
  },
  {
   "cell_type": "code",
   "execution_count": 52,
   "metadata": {
    "slideshow": {
     "slide_type": "slide"
    }
   },
   "outputs": [
    {
     "data": {
      "text/html": [
       "<div>\n",
       "<table border=\"1\" class=\"dataframe\">\n",
       "  <thead>\n",
       "    <tr style=\"text-align: right;\">\n",
       "      <th></th>\n",
       "      <th>b</th>\n",
       "      <th>d</th>\n",
       "      <th>e</th>\n",
       "    </tr>\n",
       "  </thead>\n",
       "  <tbody>\n",
       "    <tr>\n",
       "      <th>Utah</th>\n",
       "      <td>-0.245974</td>\n",
       "      <td>-0.368780</td>\n",
       "      <td>-1.155542</td>\n",
       "    </tr>\n",
       "    <tr>\n",
       "      <th>Ohio</th>\n",
       "      <td>-0.265911</td>\n",
       "      <td>0.408889</td>\n",
       "      <td>1.699500</td>\n",
       "    </tr>\n",
       "    <tr>\n",
       "      <th>Texas</th>\n",
       "      <td>1.493265</td>\n",
       "      <td>1.178813</td>\n",
       "      <td>0.432479</td>\n",
       "    </tr>\n",
       "    <tr>\n",
       "      <th>Oregon</th>\n",
       "      <td>1.113539</td>\n",
       "      <td>0.999035</td>\n",
       "      <td>-1.084429</td>\n",
       "    </tr>\n",
       "  </tbody>\n",
       "</table>\n",
       "</div>"
      ],
      "text/plain": [
       "               b         d         e\n",
       "Utah   -0.245974 -0.368780 -1.155542\n",
       "Ohio   -0.265911  0.408889  1.699500\n",
       "Texas   1.493265  1.178813  0.432479\n",
       "Oregon  1.113539  0.999035 -1.084429"
      ]
     },
     "execution_count": 52,
     "metadata": {},
     "output_type": "execute_result"
    }
   ],
   "source": [
    "#Ordena por ejes (por el nombre de los ejes)\n",
    "frame.sort_index(axis=1, ascending=True,inplace=True) \n",
    "frame"
   ]
  },
  {
   "cell_type": "code",
   "execution_count": 53,
   "metadata": {
    "slideshow": {
     "slide_type": "slide"
    }
   },
   "outputs": [
    {
     "data": {
      "text/html": [
       "<div>\n",
       "<table border=\"1\" class=\"dataframe\">\n",
       "  <thead>\n",
       "    <tr style=\"text-align: right;\">\n",
       "      <th></th>\n",
       "      <th>b</th>\n",
       "      <th>d</th>\n",
       "      <th>e</th>\n",
       "    </tr>\n",
       "  </thead>\n",
       "  <tbody>\n",
       "    <tr>\n",
       "      <th>Utah</th>\n",
       "      <td>-0.245974</td>\n",
       "      <td>-0.368780</td>\n",
       "      <td>-1.155542</td>\n",
       "    </tr>\n",
       "    <tr>\n",
       "      <th>Oregon</th>\n",
       "      <td>1.113539</td>\n",
       "      <td>0.999035</td>\n",
       "      <td>-1.084429</td>\n",
       "    </tr>\n",
       "    <tr>\n",
       "      <th>Texas</th>\n",
       "      <td>1.493265</td>\n",
       "      <td>1.178813</td>\n",
       "      <td>0.432479</td>\n",
       "    </tr>\n",
       "    <tr>\n",
       "      <th>Ohio</th>\n",
       "      <td>-0.265911</td>\n",
       "      <td>0.408889</td>\n",
       "      <td>1.699500</td>\n",
       "    </tr>\n",
       "  </tbody>\n",
       "</table>\n",
       "</div>"
      ],
      "text/plain": [
       "               b         d         e\n",
       "Utah   -0.245974 -0.368780 -1.155542\n",
       "Oregon  1.113539  0.999035 -1.084429\n",
       "Texas   1.493265  1.178813  0.432479\n",
       "Ohio   -0.265911  0.408889  1.699500"
      ]
     },
     "execution_count": 53,
     "metadata": {},
     "output_type": "execute_result"
    }
   ],
   "source": [
    "#Ordena por valores\n",
    "frame.sort_values(\"e\",ascending=True, inplace=True) \n",
    "frame"
   ]
  },
  {
   "cell_type": "code",
   "execution_count": 54,
   "metadata": {
    "slideshow": {
     "slide_type": "slide"
    }
   },
   "outputs": [
    {
     "name": "stdout",
     "output_type": "stream",
     "text": [
      "   a  b\n",
      "0  0  4\n",
      "1  1  7\n",
      "2  0 -3\n",
      "3  1  2 \n",
      "\n",
      "   a  b\n",
      "1  1  7\n",
      "0  0  4\n",
      "3  1  2\n",
      "2  0 -3\n"
     ]
    }
   ],
   "source": [
    "frame2 = DataFrame({'b': [4, 7, -3, 2], 'a': [0, 1, 0, 1]})\n",
    "f_2 = frame2.sort_values(by=['b','a'], ascending=False)\n",
    "print(frame2,'\\n')\n",
    "print(f_2)"
   ]
  },
  {
   "cell_type": "markdown",
   "metadata": {
    "slideshow": {
     "slide_type": "slide"
    }
   },
   "source": [
    "### Ejercicio con pandas\n",
    "- Leer datos desde archivo.\n"
   ]
  },
  {
   "cell_type": "code",
   "execution_count": 74,
   "metadata": {
    "collapsed": true,
    "slideshow": {
     "slide_type": "slide"
    }
   },
   "outputs": [
    {
     "data": {
      "text/html": [
       "<div>\n",
       "<table border=\"1\" class=\"dataframe\">\n",
       "  <thead>\n",
       "    <tr style=\"text-align: right;\">\n",
       "      <th></th>\n",
       "      <th>COMUNA</th>\n",
       "      <th>LOCALIDAD</th>\n",
       "      <th>TIPO DE BIEN</th>\n",
       "      <th>NORMATIVA</th>\n",
       "      <th>PROPIETARIO</th>\n",
       "    </tr>\n",
       "    <tr>\n",
       "      <th>ficha</th>\n",
       "      <th></th>\n",
       "      <th></th>\n",
       "      <th></th>\n",
       "      <th></th>\n",
       "      <th></th>\n",
       "    </tr>\n",
       "  </thead>\n",
       "  <tbody>\n",
       "    <tr>\n",
       "      <th>1</th>\n",
       "      <td>Arauco</td>\n",
       "      <td>Laraquete</td>\n",
       "      <td>Casa</td>\n",
       "      <td>Rural</td>\n",
       "      <td>Honorina</td>\n",
       "    </tr>\n",
       "    <tr>\n",
       "      <th>5</th>\n",
       "      <td>Arauco</td>\n",
       "      <td>Laraquete</td>\n",
       "      <td>Casa</td>\n",
       "      <td>Rural</td>\n",
       "      <td>Marilyn Marlene</td>\n",
       "    </tr>\n",
       "    <tr>\n",
       "      <th>10</th>\n",
       "      <td>Arauco</td>\n",
       "      <td>Laraquete</td>\n",
       "      <td>Casa</td>\n",
       "      <td>Rural</td>\n",
       "      <td>Francisco Segundo</td>\n",
       "    </tr>\n",
       "    <tr>\n",
       "      <th>11</th>\n",
       "      <td>Arauco</td>\n",
       "      <td>Laraquete</td>\n",
       "      <td>Casa</td>\n",
       "      <td>Rural</td>\n",
       "      <td>Susana Angela</td>\n",
       "    </tr>\n",
       "    <tr>\n",
       "      <th>12</th>\n",
       "      <td>Arauco</td>\n",
       "      <td>Laraquete</td>\n",
       "      <td>Casa</td>\n",
       "      <td>Rural</td>\n",
       "      <td>Bernarda del Carmen</td>\n",
       "    </tr>\n",
       "    <tr>\n",
       "      <th>13</th>\n",
       "      <td>Arauco</td>\n",
       "      <td>Laraquete</td>\n",
       "      <td>Casa</td>\n",
       "      <td>Rural</td>\n",
       "      <td>Segundo Ramón</td>\n",
       "    </tr>\n",
       "    <tr>\n",
       "      <th>15</th>\n",
       "      <td>Arauco</td>\n",
       "      <td>Laraquete</td>\n",
       "      <td>Casa</td>\n",
       "      <td>Rural</td>\n",
       "      <td>Flor Esilda</td>\n",
       "    </tr>\n",
       "    <tr>\n",
       "      <th>22</th>\n",
       "      <td>Arauco</td>\n",
       "      <td>Arauco</td>\n",
       "      <td>Casa</td>\n",
       "      <td>Rural</td>\n",
       "      <td>Cecilia</td>\n",
       "    </tr>\n",
       "    <tr>\n",
       "      <th>23</th>\n",
       "      <td>Arauco</td>\n",
       "      <td>Arauco</td>\n",
       "      <td>Casa</td>\n",
       "      <td>Rural</td>\n",
       "      <td>Samuel Segundo</td>\n",
       "    </tr>\n",
       "    <tr>\n",
       "      <th>25</th>\n",
       "      <td>Arauco</td>\n",
       "      <td>Arauco</td>\n",
       "      <td>Casa</td>\n",
       "      <td>Rural</td>\n",
       "      <td>Sonia Inés</td>\n",
       "    </tr>\n",
       "    <tr>\n",
       "      <th>26</th>\n",
       "      <td>Arauco</td>\n",
       "      <td>Arauco</td>\n",
       "      <td>Casa</td>\n",
       "      <td>Rural</td>\n",
       "      <td>Lucila</td>\n",
       "    </tr>\n",
       "    <tr>\n",
       "      <th>27</th>\n",
       "      <td>Arauco</td>\n",
       "      <td>Arauco</td>\n",
       "      <td>Casa</td>\n",
       "      <td>Rural</td>\n",
       "      <td>Juan</td>\n",
       "    </tr>\n",
       "    <tr>\n",
       "      <th>28</th>\n",
       "      <td>Arauco</td>\n",
       "      <td>Arauco</td>\n",
       "      <td>Casa</td>\n",
       "      <td>Urbana</td>\n",
       "      <td>Maritza</td>\n",
       "    </tr>\n",
       "    <tr>\n",
       "      <th>29</th>\n",
       "      <td>Arauco</td>\n",
       "      <td>Arauco</td>\n",
       "      <td>Casa</td>\n",
       "      <td>Urbana</td>\n",
       "      <td>Irma Eliana</td>\n",
       "    </tr>\n",
       "    <tr>\n",
       "      <th>31</th>\n",
       "      <td>Arauco</td>\n",
       "      <td>Arauco</td>\n",
       "      <td>Casa</td>\n",
       "      <td>Urbana</td>\n",
       "      <td>José</td>\n",
       "    </tr>\n",
       "    <tr>\n",
       "      <th>33</th>\n",
       "      <td>Arauco</td>\n",
       "      <td>Arauco</td>\n",
       "      <td>Casa</td>\n",
       "      <td>Urbana</td>\n",
       "      <td>Rosa Eulalia</td>\n",
       "    </tr>\n",
       "    <tr>\n",
       "      <th>35</th>\n",
       "      <td>Arauco</td>\n",
       "      <td>Laraquete</td>\n",
       "      <td>Casa</td>\n",
       "      <td>Rural</td>\n",
       "      <td>Flilomena del Carmen</td>\n",
       "    </tr>\n",
       "    <tr>\n",
       "      <th>37</th>\n",
       "      <td>Arauco</td>\n",
       "      <td>Arauco</td>\n",
       "      <td>Casa</td>\n",
       "      <td>Urbana</td>\n",
       "      <td>Juan</td>\n",
       "    </tr>\n",
       "    <tr>\n",
       "      <th>38</th>\n",
       "      <td>Arauco</td>\n",
       "      <td>Arauco</td>\n",
       "      <td>Casa</td>\n",
       "      <td>Urbana</td>\n",
       "      <td>Edita</td>\n",
       "    </tr>\n",
       "    <tr>\n",
       "      <th>40</th>\n",
       "      <td>Arauco</td>\n",
       "      <td>Arauco</td>\n",
       "      <td>Casa</td>\n",
       "      <td>Urbana</td>\n",
       "      <td>Rosa Elena</td>\n",
       "    </tr>\n",
       "    <tr>\n",
       "      <th>41</th>\n",
       "      <td>Arauco</td>\n",
       "      <td>Arauco</td>\n",
       "      <td>Casa</td>\n",
       "      <td>Urbana</td>\n",
       "      <td>Ema del Carmen</td>\n",
       "    </tr>\n",
       "    <tr>\n",
       "      <th>42</th>\n",
       "      <td>Arauco</td>\n",
       "      <td>Arauco</td>\n",
       "      <td>Casa</td>\n",
       "      <td>Urbana</td>\n",
       "      <td>María Angélica</td>\n",
       "    </tr>\n",
       "    <tr>\n",
       "      <th>44</th>\n",
       "      <td>Arauco</td>\n",
       "      <td>Arauco</td>\n",
       "      <td>Casa</td>\n",
       "      <td>Urbana</td>\n",
       "      <td>Heraldo</td>\n",
       "    </tr>\n",
       "    <tr>\n",
       "      <th>45</th>\n",
       "      <td>Arauco</td>\n",
       "      <td>Arauco</td>\n",
       "      <td>Casa</td>\n",
       "      <td>Urbana</td>\n",
       "      <td>Sergio</td>\n",
       "    </tr>\n",
       "    <tr>\n",
       "      <th>46</th>\n",
       "      <td>Arauco</td>\n",
       "      <td>Arauco</td>\n",
       "      <td>Casa</td>\n",
       "      <td>Urbana</td>\n",
       "      <td>Moises</td>\n",
       "    </tr>\n",
       "    <tr>\n",
       "      <th>47</th>\n",
       "      <td>Arauco</td>\n",
       "      <td>Arauco</td>\n",
       "      <td>Casa</td>\n",
       "      <td>Urbana</td>\n",
       "      <td>Graciela</td>\n",
       "    </tr>\n",
       "    <tr>\n",
       "      <th>49</th>\n",
       "      <td>Arauco</td>\n",
       "      <td>Arauco</td>\n",
       "      <td>Casa</td>\n",
       "      <td>Urbana</td>\n",
       "      <td>José Maria</td>\n",
       "    </tr>\n",
       "    <tr>\n",
       "      <th>51</th>\n",
       "      <td>Arauco</td>\n",
       "      <td>Arauco</td>\n",
       "      <td>Casa</td>\n",
       "      <td>Urbana</td>\n",
       "      <td>Magaly del Pilar</td>\n",
       "    </tr>\n",
       "    <tr>\n",
       "      <th>54</th>\n",
       "      <td>Arauco</td>\n",
       "      <td>Arauco</td>\n",
       "      <td>Casa</td>\n",
       "      <td>Urbana</td>\n",
       "      <td>Hilda Ester</td>\n",
       "    </tr>\n",
       "    <tr>\n",
       "      <th>64</th>\n",
       "      <td>Arauco</td>\n",
       "      <td>Laraquete</td>\n",
       "      <td>Casa</td>\n",
       "      <td>Rural</td>\n",
       "      <td>Juan Honorino</td>\n",
       "    </tr>\n",
       "    <tr>\n",
       "      <th>...</th>\n",
       "      <td>...</td>\n",
       "      <td>...</td>\n",
       "      <td>...</td>\n",
       "      <td>...</td>\n",
       "      <td>...</td>\n",
       "    </tr>\n",
       "    <tr>\n",
       "      <th>134</th>\n",
       "      <td>Arauco</td>\n",
       "      <td>Laraquete</td>\n",
       "      <td>Casa</td>\n",
       "      <td>Rural</td>\n",
       "      <td>Maria Irma</td>\n",
       "    </tr>\n",
       "    <tr>\n",
       "      <th>136</th>\n",
       "      <td>Arauco</td>\n",
       "      <td>Laraquete</td>\n",
       "      <td>Casa</td>\n",
       "      <td>Rural</td>\n",
       "      <td>Uberlinda</td>\n",
       "    </tr>\n",
       "    <tr>\n",
       "      <th>137</th>\n",
       "      <td>Arauco</td>\n",
       "      <td>Laraquete</td>\n",
       "      <td>Casa</td>\n",
       "      <td>Rural</td>\n",
       "      <td>Yenny</td>\n",
       "    </tr>\n",
       "    <tr>\n",
       "      <th>139</th>\n",
       "      <td>Arauco</td>\n",
       "      <td>Laraquete</td>\n",
       "      <td>Casa</td>\n",
       "      <td>Rural</td>\n",
       "      <td>Basilia</td>\n",
       "    </tr>\n",
       "    <tr>\n",
       "      <th>141</th>\n",
       "      <td>Arauco</td>\n",
       "      <td>Arauco</td>\n",
       "      <td>Casa</td>\n",
       "      <td>Urbana</td>\n",
       "      <td>Juan Plinio</td>\n",
       "    </tr>\n",
       "    <tr>\n",
       "      <th>142</th>\n",
       "      <td>Arauco</td>\n",
       "      <td>Arauco</td>\n",
       "      <td>Casa</td>\n",
       "      <td>Urbana</td>\n",
       "      <td>Julián</td>\n",
       "    </tr>\n",
       "    <tr>\n",
       "      <th>143</th>\n",
       "      <td>Arauco</td>\n",
       "      <td>Arauco</td>\n",
       "      <td>departamento</td>\n",
       "      <td>Urbana</td>\n",
       "      <td>Juan</td>\n",
       "    </tr>\n",
       "    <tr>\n",
       "      <th>146</th>\n",
       "      <td>Arauco</td>\n",
       "      <td>Arauco</td>\n",
       "      <td>departamento</td>\n",
       "      <td>Urbana</td>\n",
       "      <td>Patricia Jeannette</td>\n",
       "    </tr>\n",
       "    <tr>\n",
       "      <th>147</th>\n",
       "      <td>Arauco</td>\n",
       "      <td>NaN</td>\n",
       "      <td>departamento</td>\n",
       "      <td>Urbana</td>\n",
       "      <td>Ana Luisa</td>\n",
       "    </tr>\n",
       "    <tr>\n",
       "      <th>148</th>\n",
       "      <td>Arauco</td>\n",
       "      <td>NaN</td>\n",
       "      <td>departamento</td>\n",
       "      <td>Urbana</td>\n",
       "      <td>María Isabel</td>\n",
       "    </tr>\n",
       "    <tr>\n",
       "      <th>149</th>\n",
       "      <td>Arauco</td>\n",
       "      <td>Arauco</td>\n",
       "      <td>departamento</td>\n",
       "      <td>Urbana</td>\n",
       "      <td>Yasna Evelyn</td>\n",
       "    </tr>\n",
       "    <tr>\n",
       "      <th>151</th>\n",
       "      <td>Arauco</td>\n",
       "      <td>Arauco</td>\n",
       "      <td>departamento</td>\n",
       "      <td>Urbana</td>\n",
       "      <td>Carlos Aladino</td>\n",
       "    </tr>\n",
       "    <tr>\n",
       "      <th>152</th>\n",
       "      <td>Arauco</td>\n",
       "      <td>Arauco</td>\n",
       "      <td>departamento</td>\n",
       "      <td>Urbana</td>\n",
       "      <td>José Luis</td>\n",
       "    </tr>\n",
       "    <tr>\n",
       "      <th>153</th>\n",
       "      <td>Arauco</td>\n",
       "      <td>Arauco</td>\n",
       "      <td>departamento</td>\n",
       "      <td>Rural</td>\n",
       "      <td>Juan Bautista</td>\n",
       "    </tr>\n",
       "    <tr>\n",
       "      <th>154</th>\n",
       "      <td>Arauco</td>\n",
       "      <td>Arauco</td>\n",
       "      <td>departamento</td>\n",
       "      <td>Urbana</td>\n",
       "      <td>José Aquiles</td>\n",
       "    </tr>\n",
       "    <tr>\n",
       "      <th>155</th>\n",
       "      <td>Arauco</td>\n",
       "      <td>Arauco</td>\n",
       "      <td>departamento</td>\n",
       "      <td>Urbana</td>\n",
       "      <td>Herminio</td>\n",
       "    </tr>\n",
       "    <tr>\n",
       "      <th>156</th>\n",
       "      <td>Arauco</td>\n",
       "      <td>Arauco</td>\n",
       "      <td>departamento</td>\n",
       "      <td>Urbana</td>\n",
       "      <td>Edina</td>\n",
       "    </tr>\n",
       "    <tr>\n",
       "      <th>157</th>\n",
       "      <td>Arauco</td>\n",
       "      <td>Carampangue</td>\n",
       "      <td>departamento</td>\n",
       "      <td>Rural</td>\n",
       "      <td>Ramón Segundo</td>\n",
       "    </tr>\n",
       "    <tr>\n",
       "      <th>158</th>\n",
       "      <td>Arauco</td>\n",
       "      <td>Carampangue</td>\n",
       "      <td>departamento</td>\n",
       "      <td>Rural</td>\n",
       "      <td>Patricio Segundo</td>\n",
       "    </tr>\n",
       "    <tr>\n",
       "      <th>159</th>\n",
       "      <td>Arauco</td>\n",
       "      <td>Arauco</td>\n",
       "      <td>departamento</td>\n",
       "      <td>Urbana</td>\n",
       "      <td>Nilda</td>\n",
       "    </tr>\n",
       "    <tr>\n",
       "      <th>160</th>\n",
       "      <td>Arauco</td>\n",
       "      <td>Arauco</td>\n",
       "      <td>departamento</td>\n",
       "      <td>Urbana</td>\n",
       "      <td>María Cristina</td>\n",
       "    </tr>\n",
       "    <tr>\n",
       "      <th>161</th>\n",
       "      <td>Arauco</td>\n",
       "      <td>Arauco</td>\n",
       "      <td>departamento</td>\n",
       "      <td>Urbana</td>\n",
       "      <td>Rigoberto</td>\n",
       "    </tr>\n",
       "    <tr>\n",
       "      <th>163</th>\n",
       "      <td>Arauco</td>\n",
       "      <td>Arauco</td>\n",
       "      <td>departamento</td>\n",
       "      <td>Urbana</td>\n",
       "      <td>Pedro Segundo</td>\n",
       "    </tr>\n",
       "    <tr>\n",
       "      <th>167</th>\n",
       "      <td>Arauco</td>\n",
       "      <td>Arauco</td>\n",
       "      <td>departamento</td>\n",
       "      <td>Urbana</td>\n",
       "      <td>Segundo</td>\n",
       "    </tr>\n",
       "    <tr>\n",
       "      <th>171</th>\n",
       "      <td>Arauco</td>\n",
       "      <td>Arauco</td>\n",
       "      <td>departamento</td>\n",
       "      <td>Urbana</td>\n",
       "      <td>Mario</td>\n",
       "    </tr>\n",
       "    <tr>\n",
       "      <th>172</th>\n",
       "      <td>Arauco</td>\n",
       "      <td>Arauco</td>\n",
       "      <td>departamento</td>\n",
       "      <td>Urbana</td>\n",
       "      <td>Demesio del Tránsito</td>\n",
       "    </tr>\n",
       "    <tr>\n",
       "      <th>173</th>\n",
       "      <td>Arauco</td>\n",
       "      <td>Arauco</td>\n",
       "      <td>departamento</td>\n",
       "      <td>Urbana</td>\n",
       "      <td>Carlos</td>\n",
       "    </tr>\n",
       "    <tr>\n",
       "      <th>174</th>\n",
       "      <td>Arauco</td>\n",
       "      <td>Arauco</td>\n",
       "      <td>departamento</td>\n",
       "      <td>Urbana</td>\n",
       "      <td>Norma</td>\n",
       "    </tr>\n",
       "    <tr>\n",
       "      <th>175</th>\n",
       "      <td>Arauco</td>\n",
       "      <td>Arauco</td>\n",
       "      <td>departamento</td>\n",
       "      <td>Urbana</td>\n",
       "      <td>Marcela Elizabeth</td>\n",
       "    </tr>\n",
       "    <tr>\n",
       "      <th>176</th>\n",
       "      <td>Arauco</td>\n",
       "      <td>Arauco</td>\n",
       "      <td>departamento</td>\n",
       "      <td>Urbana</td>\n",
       "      <td>Teresa del Carmen</td>\n",
       "    </tr>\n",
       "  </tbody>\n",
       "</table>\n",
       "<p>97 rows × 5 columns</p>\n",
       "</div>"
      ],
      "text/plain": [
       "       COMUNA    LOCALIDAD  TIPO DE BIEN NORMATIVA           PROPIETARIO\n",
       "ficha                                                                   \n",
       "1      Arauco    Laraquete          Casa     Rural              Honorina\n",
       "5      Arauco    Laraquete          Casa     Rural       Marilyn Marlene\n",
       "10     Arauco    Laraquete          Casa     Rural     Francisco Segundo\n",
       "11     Arauco    Laraquete          Casa     Rural         Susana Angela\n",
       "12     Arauco    Laraquete          Casa     Rural   Bernarda del Carmen\n",
       "13     Arauco    Laraquete          Casa     Rural         Segundo Ramón\n",
       "15     Arauco    Laraquete          Casa     Rural           Flor Esilda\n",
       "22     Arauco       Arauco          Casa     Rural              Cecilia \n",
       "23     Arauco       Arauco          Casa     Rural        Samuel Segundo\n",
       "25     Arauco       Arauco          Casa     Rural            Sonia Inés\n",
       "26     Arauco       Arauco          Casa     Rural               Lucila \n",
       "27     Arauco       Arauco          Casa     Rural                  Juan\n",
       "28     Arauco       Arauco          Casa    Urbana              Maritza \n",
       "29     Arauco       Arauco          Casa    Urbana           Irma Eliana\n",
       "31     Arauco       Arauco          Casa    Urbana                  José\n",
       "33     Arauco       Arauco          Casa    Urbana          Rosa Eulalia\n",
       "35     Arauco    Laraquete          Casa     Rural  Flilomena del Carmen\n",
       "37     Arauco       Arauco          Casa    Urbana                  Juan\n",
       "38     Arauco       Arauco          Casa    Urbana                 Edita\n",
       "40     Arauco       Arauco          Casa    Urbana            Rosa Elena\n",
       "41     Arauco       Arauco          Casa    Urbana        Ema del Carmen\n",
       "42     Arauco       Arauco          Casa    Urbana        María Angélica\n",
       "44     Arauco       Arauco          Casa    Urbana               Heraldo\n",
       "45     Arauco       Arauco          Casa    Urbana                Sergio\n",
       "46     Arauco       Arauco          Casa    Urbana                Moises\n",
       "47     Arauco       Arauco          Casa    Urbana              Graciela\n",
       "49     Arauco       Arauco          Casa    Urbana            José Maria\n",
       "51     Arauco       Arauco          Casa    Urbana      Magaly del Pilar\n",
       "54     Arauco       Arauco          Casa    Urbana           Hilda Ester\n",
       "64     Arauco    Laraquete          Casa     Rural        Juan Honorino \n",
       "...       ...          ...           ...       ...                   ...\n",
       "134    Arauco    Laraquete          Casa     Rural            Maria Irma\n",
       "136    Arauco    Laraquete          Casa     Rural             Uberlinda\n",
       "137    Arauco    Laraquete          Casa     Rural                 Yenny\n",
       "139    Arauco    Laraquete          Casa     Rural               Basilia\n",
       "141    Arauco       Arauco          Casa    Urbana           Juan Plinio\n",
       "142    Arauco       Arauco          Casa    Urbana                Julián\n",
       "143    Arauco       Arauco  departamento    Urbana                  Juan\n",
       "146    Arauco       Arauco  departamento    Urbana    Patricia Jeannette\n",
       "147    Arauco          NaN  departamento    Urbana             Ana Luisa\n",
       "148    Arauco          NaN  departamento    Urbana          María Isabel\n",
       "149    Arauco       Arauco  departamento    Urbana          Yasna Evelyn\n",
       "151    Arauco       Arauco  departamento    Urbana        Carlos Aladino\n",
       "152    Arauco       Arauco  departamento    Urbana             José Luis\n",
       "153    Arauco       Arauco  departamento     Rural         Juan Bautista\n",
       "154    Arauco       Arauco  departamento    Urbana          José Aquiles\n",
       "155    Arauco       Arauco  departamento    Urbana              Herminio\n",
       "156    Arauco       Arauco  departamento    Urbana                 Edina\n",
       "157    Arauco  Carampangue  departamento     Rural         Ramón Segundo\n",
       "158    Arauco  Carampangue  departamento     Rural      Patricio Segundo\n",
       "159    Arauco       Arauco  departamento    Urbana                 Nilda\n",
       "160    Arauco       Arauco  departamento    Urbana       María Cristina \n",
       "161    Arauco       Arauco  departamento    Urbana             Rigoberto\n",
       "163    Arauco       Arauco  departamento    Urbana         Pedro Segundo\n",
       "167    Arauco       Arauco  departamento    Urbana             Segundo  \n",
       "171    Arauco       Arauco  departamento    Urbana                 Mario\n",
       "172    Arauco       Arauco  departamento    Urbana  Demesio del Tránsito\n",
       "173    Arauco       Arauco  departamento    Urbana                Carlos\n",
       "174    Arauco       Arauco  departamento    Urbana                 Norma\n",
       "175    Arauco       Arauco  departamento    Urbana     Marcela Elizabeth\n",
       "176    Arauco       Arauco  departamento    Urbana     Teresa del Carmen\n",
       "\n",
       "[97 rows x 5 columns]"
      ]
     },
     "execution_count": 74,
     "metadata": {},
     "output_type": "execute_result"
    }
   ],
   "source": [
    "Datos=pd.read_csv(\"DATOS_Ej.csv\", index_col=0)\n",
    "Datos"
   ]
  },
  {
   "cell_type": "code",
   "execution_count": 75,
   "metadata": {
    "collapsed": true
   },
   "outputs": [],
   "source": [
    "np.RAISE?"
   ]
  },
  {
   "cell_type": "markdown",
   "metadata": {
    "slideshow": {
     "slide_type": "slide"
    }
   },
   "source": [
    "### Ejercicio con pandas\n",
    "- Leer datos desde archivo.\n",
    "- Muestren los primeros 10\n",
    "- Muestren los últimos 10\n",
    "- Muestren solo los nombres de los propietarios\n",
    "- Agregar una columna de Edad\n",
    "- Asignar una edad a cada registro (como prefieran)\n",
    "- Agregar 10 registros, uno por cada compañero de clase (puede inventar los datos, excepto el nombre)\n",
    "- Cuenten cuántas casas y departamentos hay (tipo de bien) en la BD\n",
    "- Me digan cuantos Juan son propietarios\n",
    "- Llenar los missing data con el valor predominante en cada columna\n",
    "- Contar cuantos elementos hay de cada columna\n",
    "- Copien la BD a otro Dataframe\n",
    "- En el nuevo Dataframe\n",
    "    - Borrar todos los registros de localidad Laraquete\n",
    "    - Borrar las fichas con valore entre 30 y 60.\n",
    "    \n",
    "    "
   ]
  },
  {
   "cell_type": "code",
   "execution_count": null,
   "metadata": {
    "collapsed": true
   },
   "outputs": [],
   "source": []
  }
 ],
 "metadata": {
  "anaconda-cloud": {},
  "celltoolbar": "Slideshow",
  "kernelspec": {
   "display_name": "Python 3",
   "language": "python",
   "name": "python3"
  },
  "language_info": {
   "codemirror_mode": {
    "name": "ipython",
    "version": 3
   },
   "file_extension": ".py",
   "mimetype": "text/x-python",
   "name": "python",
   "nbconvert_exporter": "python",
   "pygments_lexer": "ipython3",
   "version": "3.6.3"
  }
 },
 "nbformat": 4,
 "nbformat_minor": 2
}
