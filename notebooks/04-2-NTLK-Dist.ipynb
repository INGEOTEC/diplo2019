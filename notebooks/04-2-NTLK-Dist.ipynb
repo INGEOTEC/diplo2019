{
 "cells": [
  {
   "cell_type": "markdown",
   "metadata": {},
   "source": [
    "# Similitud coseno"
   ]
  },
  {
   "cell_type": "code",
   "execution_count": 163,
   "metadata": {},
   "outputs": [
    {
     "data": {
      "image/png": "[encoded data removed]",
      "text/plain": [
       "<matplotlib.figure.Figure at 0x11175be10>"
      ]
     },
     "metadata": {},
     "output_type": "display_data"
    }
   ],
   "source": [
    "%matplotlib inline\n",
    "import matplotlib.pyplot as plt\n",
    "a=[0, 2, 0, 5]\n",
    "b=[0,9, 0, 5]\n",
    "plt.xticks([])\n",
    "plt.yticks([])\n",
    "plt.plot(a,b)\n",
    "plt.show()"
   ]
  },
  {
   "cell_type": "markdown",
   "metadata": {},
   "source": [
    "# Documentos representados como vectores:\n",
    "## documentos:  A y  B"
   ]
  },
  {
   "cell_type": "markdown",
   "metadata": {},
   "source": [
    "#  $$ cosine(\\theta) = \\frac{\\vec{A} \\cdot \\vec{B}}{\\lVert \\vec{A} \\rVert \\lVert \\vec{B} \\rVert} =   \\frac{ \\sum_{i=1}^{n} A_i B_i}{\\sqrt{\\sum_{i=1}^{n} A_{i}^{2}} \\sqrt{\\sum_{i=1}^{n} B_{i}^{2}}} $$"
   ]
  },
  {
   "cell_type": "code",
   "execution_count": null,
   "metadata": {},
   "outputs": [],
   "source": []
  },
  {
   "cell_type": "code",
   "execution_count": 193,
   "metadata": {},
   "outputs": [],
   "source": [
    "docs = (\n",
    "\"El cielo es azul\",\n",
    "\"El sol es brillante\",\n",
    "\"El sol en el cielo es brillante\",\n",
    "\"Podemos ver el sol brillante, el sol brillante\",\n",
    "\"Juan Luis ama a maria\",\n",
    "\"Maria ama a Luis\",\n",
    "\"la estrella de la mañana y la estrella del atardecer es la misma estrella\",\n",
    "\"las estrellas del cielo y \"\n",
    ")\n"
   ]
  },
  {
   "cell_type": "markdown",
   "metadata": {},
   "source": [
    "# Extracción de vocabulario"
   ]
  },
  {
   "cell_type": "code",
   "execution_count": 194,
   "metadata": {},
   "outputs": [
    {
     "name": "stdout",
     "output_type": "stream",
     "text": [
      "51\n",
      "{'brillante', 'cielo', 'es', 'juan', 'las', 'ver', 'a', 'la', 'misma', 'sol', 'maria', 'el', 'azul', 'podemos', 'mañana', 'de', 'luis', 'atardecer', 'ama', 'y', 'en', 'estrellas', 'estrella', 'brillante,', 'del'}\n",
      "25\n"
     ]
    }
   ],
   "source": [
    "voc=[]\n",
    "for d in docs:\n",
    "    for t in d.split():\n",
    "        voc.append(t.lower())\n",
    "vocab=set(voc)\n",
    "print(len(voc))\n",
    "print(vocab)\n",
    "print(len(vocab))"
   ]
  },
  {
   "cell_type": "markdown",
   "metadata": {},
   "source": [
    "# Vectorización de documentos"
   ]
  },
  {
   "cell_type": "markdown",
   "metadata": {},
   "source": [
    "## Vocabulario\n",
    "## \"El cielo es azul\"\n",
    "##  <span style=\"color:green\"> ['a', 'ama', 'atardecer', 'azul', 'brillante', 'cielo', 'de', 'del', ...] </span>\n",
    "## Documento A \n",
    "##  <span style=\"color:darkblue\"> [0, 0, 0, 1, 0, 1, 0, 0, 1, 0, 1, 0, 0, 0, 0, 0, 0, 0, 0, 0, 0, 0] </span>\n",
    "## Documento B \n",
    "## <span style=\"color:darkblue\"> [0, 0, 0, 1, 0, 1, 0, 0, 1, 0, 1, 0, 0, 0, 0, 0, 0, 0, 0, 0, 0, 0]  </span>\n",
    "\n",
    "\n"
   ]
  },
  {
   "cell_type": "code",
   "execution_count": 195,
   "metadata": {},
   "outputs": [
    {
     "name": "stdout",
     "output_type": "stream",
     "text": [
      "[[0, 0, 0, 1, 0, 0, 1, 0, 0, 1, 0, 1, 0, 0, 0, 0, 0, 0, 0, 0, 0, 0, 0, 0, 0], [0, 0, 0, 0, 1, 0, 0, 0, 0, 1, 0, 1, 0, 0, 0, 0, 0, 0, 0, 0, 0, 0, 1, 0, 0], [0, 0, 0, 0, 1, 0, 1, 0, 0, 1, 1, 1, 0, 0, 0, 0, 0, 0, 0, 0, 0, 0, 1, 0, 0], [0, 0, 0, 0, 1, 1, 0, 0, 0, 1, 0, 0, 0, 0, 0, 0, 0, 0, 0, 0, 0, 1, 1, 1, 0], [1, 1, 0, 0, 0, 0, 0, 0, 0, 0, 0, 0, 0, 0, 1, 0, 0, 1, 1, 0, 0, 0, 0, 0, 0], [1, 1, 0, 0, 0, 0, 0, 0, 0, 0, 0, 0, 0, 0, 0, 0, 0, 1, 1, 0, 0, 0, 0, 0, 0], [0, 0, 1, 0, 0, 0, 0, 1, 1, 0, 0, 1, 1, 0, 0, 1, 0, 0, 0, 1, 1, 0, 0, 0, 1], [0, 0, 0, 0, 0, 0, 1, 0, 1, 0, 0, 0, 0, 1, 0, 0, 1, 0, 0, 0, 0, 0, 0, 0, 1]]\n"
     ]
    }
   ],
   "source": [
    "vecs = []\n",
    "#crear vector por documento\n",
    "ind_voc=sorted(list(vocab))\n",
    "for d in docs:\n",
    "    v=[0]*len(ind_voc)\n",
    "    for t in d.lower().split():\n",
    "        k= ind_voc.index(t) \n",
    "        v[k]=1\n",
    "    vecs.append(v)\n",
    "        \n",
    "print(vecs)\n",
    "\n"
   ]
  },
  {
   "cell_type": "markdown",
   "metadata": {},
   "source": [
    "# Cálculo similitud coseno"
   ]
  },
  {
   "cell_type": "markdown",
   "metadata": {},
   "source": [
    "#  $$ cosine(\\theta) = \\frac{\\vec{A} \\cdot \\vec{B}}{\\lVert \\vec{A} \\rVert \\lVert \\vec{B} \\rVert} =   \\frac{ \\sum_{i=1}^{n} A_i B_i}{\\sqrt{\\sum_{i=1}^{n} A_{i}^{2}} \\sqrt{\\sum_{i=1}^{n} B_{i}^{2}}} $$"
   ]
  },
  {
   "cell_type": "code",
   "execution_count": 197,
   "metadata": {
    "scrolled": true
   },
   "outputs": [
    {
     "name": "stdout",
     "output_type": "stream",
     "text": [
      "El cielo es azul\n",
      "El sol es brillante\n",
      "0.5\n"
     ]
    }
   ],
   "source": [
    "\n",
    "import math\n",
    "\n",
    "d1= 0\n",
    "d2 =1\n",
    "A= vecs[d1]\n",
    "B= vecs[d2]\n",
    "\n",
    "s_ab = 0\n",
    "aa = 0\n",
    "bb = 0\n",
    "for (x,y) in zip(A,B):\n",
    "    s_ab = s_ab + x*y \n",
    "    aa = aa + x*x\n",
    "    bb = bb + y*y\n",
    "\n",
    "sim_cos = s_ab/(math.sqrt(aa)*math.sqrt(bb))\n",
    "\n",
    "print(docs[d1])\n",
    "print(docs[d2])\n",
    "print(sim_cos)\n",
    "\n",
    "\n"
   ]
  },
  {
   "cell_type": "markdown",
   "metadata": {},
   "source": [
    "# NLTK: Natural Language Tool Kit"
   ]
  },
  {
   "cell_type": "code",
   "execution_count": null,
   "metadata": {},
   "outputs": [],
   "source": []
  },
  {
   "cell_type": "code",
   "execution_count": null,
   "metadata": {
    "collapsed": true,
    "jupyter": {
     "outputs_hidden": true
    }
   },
   "outputs": [],
   "source": [
    "a=\"vimos los locos carros veloces en la pista de carreras\"\n",
    "b=\"El carro de carrera era muy veloz en la pista\"\n"
   ]
  },
  {
   "cell_type": "code",
   "execution_count": null,
   "metadata": {
    "collapsed": true,
    "jupyter": {
     "outputs_hidden": true
    }
   },
   "outputs": [],
   "source": []
  },
  {
   "cell_type": "code",
   "execution_count": 199,
   "metadata": {},
   "outputs": [
    {
     "name": "stdout",
     "output_type": "stream",
     "text": [
      "showing info https://raw.githubusercontent.com/nltk/nltk_data/gh-pages/index.xml\n"
     ]
    },
    {
     "data": {
      "text/plain": [
       "True"
      ]
     },
     "execution_count": 199,
     "metadata": {},
     "output_type": "execute_result"
    }
   ],
   "source": [
    "import nltk\n",
    "nltk.download()"
   ]
  },
  {
   "cell_type": "markdown",
   "metadata": {},
   "source": [
    "# Preprocesamiento Stemming"
   ]
  },
  {
   "cell_type": "code",
   "execution_count": 206,
   "metadata": {},
   "outputs": [
    {
     "name": "stdout",
     "output_type": "stream",
     "text": [
      "mes\n",
      "mes\n",
      "mes\n",
      "mes\n"
     ]
    }
   ],
   "source": [
    "from nltk.stem import SnowballStemmer\n",
    "stemmer=SnowballStemmer(\"spanish\")\n",
    "print(stemmer.stem(\"mesas\"))\n",
    "print(stemmer.stem(\"mesa\"))\n",
    "print(stemmer.stem(\"meses\"))\n",
    "print(stemmer.stem(\"mes\"))\n"
   ]
  },
  {
   "cell_type": "markdown",
   "metadata": {},
   "source": [
    "# Similitud + stemming"
   ]
  },
  {
   "cell_type": "code",
   "execution_count": null,
   "metadata": {
    "collapsed": true,
    "jupyter": {
     "outputs_hidden": true
    }
   },
   "outputs": [],
   "source": [
    "# sim_AB= ?"
   ]
  },
  {
   "cell_type": "code",
   "execution_count": 211,
   "metadata": {},
   "outputs": [
    {
     "name": "stdout",
     "output_type": "stream",
     "text": [
      "['a', 'ama', 'atardec', 'azul', 'brillant', 'ciel', 'de', 'del', 'el', 'en', 'es', 'estrell', 'juan', 'la', 'las', 'luis', 'maan', 'mari', 'mism', 'pod', 'sol', 'ver', 'y']\n",
      "[[0, 0, 0, 1, 0, 1, 0, 0, 1, 0, 1, 0, 0, 0, 0, 0, 0, 0, 0, 0, 0, 0, 0], [0, 0, 0, 0, 1, 0, 0, 0, 1, 0, 1, 0, 0, 0, 0, 0, 0, 0, 0, 0, 1, 0, 0], [0, 0, 0, 0, 1, 1, 0, 0, 1, 1, 1, 0, 0, 0, 0, 0, 0, 0, 0, 0, 1, 0, 0], [0, 0, 0, 0, 1, 0, 0, 0, 1, 0, 0, 0, 0, 0, 0, 0, 0, 0, 0, 1, 1, 1, 0], [1, 1, 0, 0, 0, 0, 0, 0, 0, 0, 0, 0, 1, 0, 0, 1, 0, 1, 0, 0, 0, 0, 0], [1, 1, 0, 0, 0, 0, 0, 0, 0, 0, 0, 0, 0, 0, 0, 1, 0, 1, 0, 0, 0, 0, 0], [0, 0, 1, 0, 0, 0, 1, 1, 0, 0, 1, 1, 0, 1, 0, 0, 1, 0, 1, 0, 0, 0, 1], [0, 0, 0, 0, 0, 1, 0, 1, 0, 0, 0, 1, 0, 0, 1, 0, 0, 0, 0, 0, 0, 0, 1]]\n"
     ]
    }
   ],
   "source": [
    "from nltk.stem import SnowballStemmer\n",
    "import re\n",
    "stemmer=SnowballStemmer(\"spanish\")\n",
    "voc=[]\n",
    "for d in docs:\n",
    "    for t in d.lower().split():\n",
    "        t= re.sub(r\"[^a-z]\", \"\", t)\n",
    "        voc.append(stemmer.stem(t))\n",
    "vocab=set(voc)\n",
    "\n",
    "ind_voc=sorted(list(vocab))\n",
    "print(ind_voc)\n",
    "vecs = []\n",
    "#crear vector por documento\n",
    "for d in docs:\n",
    "    v=[0]*len(ind_voc)\n",
    "    for t in d.lower().split():\n",
    "        t= re.sub(r\"[^a-z]\", \"\", t)\n",
    "        k= ind_voc.index(stemmer.stem(t)) \n",
    "        v[k]=1\n",
    "    vecs.append(v)\n",
    "        \n",
    "print(vecs)"
   ]
  },
  {
   "cell_type": "code",
   "execution_count": 215,
   "metadata": {},
   "outputs": [
    {
     "name": "stdout",
     "output_type": "stream",
     "text": [
      "la estrella de la mañana y la estrella del atardecer es la misma estrella\n",
      "las estrellas del cielo y \n",
      "['a', 'ama', 'atardec', 'azul', 'brillant', 'ciel', 'de', 'del', 'el', 'en', 'es', 'estrell', 'juan', 'la', 'las', 'luis', 'maan', 'mari', 'mism', 'pod', 'sol', 'ver', 'y']\n",
      "0.4472135954999579\n"
     ]
    }
   ],
   "source": [
    "import math\n",
    "\n",
    "d1= 6\n",
    "d2 =7\n",
    "A= vecs[d1]\n",
    "B= vecs[d2]\n",
    "\n",
    "s_ab = 0\n",
    "aa = 0\n",
    "bb = 0\n",
    "for (x,y) in zip(A,B):\n",
    "    s_ab = s_ab + x*y \n",
    "    aa = aa + x*x\n",
    "    bb = bb + y*y\n",
    "\n",
    "sim_cos = s_ab/(math.sqrt(aa)*math.sqrt(bb))\n",
    "\n",
    "print(docs[d1])\n",
    "print(docs[d2])\n",
    "print(ind_voc)\n",
    "print(sim_cos)"
   ]
  },
  {
   "cell_type": "code",
   "execution_count": 217,
   "metadata": {},
   "outputs": [],
   "source": [
    "from nltk.book import *"
   ]
  },
  {
   "cell_type": "code",
   "execution_count": 219,
   "metadata": {},
   "outputs": [
    {
     "data": {
      "text/plain": [
       "['[',\n",
       " 'Sense',\n",
       " 'and',\n",
       " 'Sensibility',\n",
       " 'by',\n",
       " 'Jane',\n",
       " 'Austen',\n",
       " '1811',\n",
       " ']',\n",
       " 'CHAPTER']"
      ]
     },
     "execution_count": 219,
     "metadata": {},
     "output_type": "execute_result"
    }
   ],
   "source": [
    "text2[:10]"
   ]
  },
  {
   "cell_type": "code",
   "execution_count": null,
   "metadata": {
    "collapsed": true,
    "jupyter": {
     "outputs_hidden": true
    }
   },
   "outputs": [],
   "source": []
  }
 ],
 "metadata": {
  "kernelspec": {
   "display_name": "Python 3",
   "language": "python",
   "name": "python3"
  },
  "language_info": {
   "codemirror_mode": {
    "name": "ipython",
    "version": 3
   },
   "file_extension": ".py",
   "mimetype": "text/x-python",
   "name": "python",
   "nbconvert_exporter": "python",
   "pygments_lexer": "ipython3",
   "version": "3.7.4"
  }
 },
 "nbformat": 4,
 "nbformat_minor": 4
}
